{
 "cells": [
  {
   "cell_type": "markdown",
   "id": "e2809e68",
   "metadata": {},
   "source": [
    "# 영화 관객수 예측\n",
    "## 9팀\n",
    "\n",
    "데이콘 내 2010년대 한국영화 관객수 예측 모델 개발 데이터를 이용해 관객수 예측 모델을 작성해보았다.\n",
    "\n",
    "출처 : https://dacon.io/competitions/open/235536/overview/description\n"
   ]
  },
  {
   "cell_type": "markdown",
   "id": "5c8295ab",
   "metadata": {},
   "source": [
    "## 라이브러리 및 데이터 불러오기"
   ]
  },
  {
   "cell_type": "code",
   "execution_count": 1,
   "id": "f4ed5311",
   "metadata": {},
   "outputs": [],
   "source": [
    "import pandas as pd\n",
    "import seaborn as sns\n",
    "import matplotlib.pyplot as plt\n",
    "import plotly.express as px\n",
    "%matplotlib inline\n",
    "from sklearn.tree import DecisionTreeRegressor"
   ]
  },
  {
   "cell_type": "code",
   "execution_count": 2,
   "id": "919b2d83",
   "metadata": {},
   "outputs": [],
   "source": [
    "df_train = pd.read_csv(\"../438b66124a5ab797/movies_train.csv\")\n",
    "df_test = pd.read_csv(\"../438b66124a5ab797/movies_test.csv\")\n",
    "\n",
    "df_train.columns = [\"영화제목\", \"배급사\", \"장르\", \"개봉일\", \"상영시간(분)\", \"상영등급\", \"감독이름\", \"감독평균관객수\", \"감독참여영화\", \"스태프수\", \"주연배우수\", \"관객수\"]\n",
    "df_test.columns = [\"영화제목\", \"배급사\", \"장르\", \"개봉일\", \"상영시간(분)\", \"상영등급\", \"감독이름\", \"감독평균관객수\", \"감독참여영화\", \"스태프수\", \"주연배우수\"]"
   ]
  },
  {
   "cell_type": "markdown",
   "id": "81a024b8",
   "metadata": {},
   "source": [
    "## 데이터 상태 확인하기"
   ]
  },
  {
   "cell_type": "markdown",
   "id": "8646dea9",
   "metadata": {},
   "source": [
    "### train set"
   ]
  },
  {
   "cell_type": "code",
   "execution_count": 3,
   "id": "402d2e43",
   "metadata": {
    "scrolled": false
   },
   "outputs": [
    {
     "data": {
      "text/plain": [
       "(600, 12)"
      ]
     },
     "execution_count": 3,
     "metadata": {},
     "output_type": "execute_result"
    }
   ],
   "source": [
    "df_train.shape"
   ]
  },
  {
   "cell_type": "code",
   "execution_count": 4,
   "id": "c4461142",
   "metadata": {},
   "outputs": [
    {
     "data": {
      "text/html": [
       "<div>\n",
       "<style scoped>\n",
       "    .dataframe tbody tr th:only-of-type {\n",
       "        vertical-align: middle;\n",
       "    }\n",
       "\n",
       "    .dataframe tbody tr th {\n",
       "        vertical-align: top;\n",
       "    }\n",
       "\n",
       "    .dataframe thead th {\n",
       "        text-align: right;\n",
       "    }\n",
       "</style>\n",
       "<table border=\"1\" class=\"dataframe\">\n",
       "  <thead>\n",
       "    <tr style=\"text-align: right;\">\n",
       "      <th></th>\n",
       "      <th>영화제목</th>\n",
       "      <th>배급사</th>\n",
       "      <th>장르</th>\n",
       "      <th>개봉일</th>\n",
       "      <th>상영시간(분)</th>\n",
       "      <th>상영등급</th>\n",
       "      <th>감독이름</th>\n",
       "      <th>감독평균관객수</th>\n",
       "      <th>감독참여영화</th>\n",
       "      <th>스태프수</th>\n",
       "      <th>주연배우수</th>\n",
       "      <th>관객수</th>\n",
       "    </tr>\n",
       "  </thead>\n",
       "  <tbody>\n",
       "    <tr>\n",
       "      <th>0</th>\n",
       "      <td>개들의 전쟁</td>\n",
       "      <td>롯데엔터테인먼트</td>\n",
       "      <td>액션</td>\n",
       "      <td>2012-11-22</td>\n",
       "      <td>96</td>\n",
       "      <td>청소년 관람불가</td>\n",
       "      <td>조병옥</td>\n",
       "      <td>NaN</td>\n",
       "      <td>0</td>\n",
       "      <td>91</td>\n",
       "      <td>2</td>\n",
       "      <td>23398</td>\n",
       "    </tr>\n",
       "    <tr>\n",
       "      <th>1</th>\n",
       "      <td>내부자들</td>\n",
       "      <td>(주)쇼박스</td>\n",
       "      <td>느와르</td>\n",
       "      <td>2015-11-19</td>\n",
       "      <td>130</td>\n",
       "      <td>청소년 관람불가</td>\n",
       "      <td>우민호</td>\n",
       "      <td>1161602.50</td>\n",
       "      <td>2</td>\n",
       "      <td>387</td>\n",
       "      <td>3</td>\n",
       "      <td>7072501</td>\n",
       "    </tr>\n",
       "    <tr>\n",
       "      <th>2</th>\n",
       "      <td>은밀하게 위대하게</td>\n",
       "      <td>(주)쇼박스</td>\n",
       "      <td>액션</td>\n",
       "      <td>2013-06-05</td>\n",
       "      <td>123</td>\n",
       "      <td>15세 관람가</td>\n",
       "      <td>장철수</td>\n",
       "      <td>220775.25</td>\n",
       "      <td>4</td>\n",
       "      <td>343</td>\n",
       "      <td>4</td>\n",
       "      <td>6959083</td>\n",
       "    </tr>\n",
       "    <tr>\n",
       "      <th>3</th>\n",
       "      <td>나는 공무원이다</td>\n",
       "      <td>(주)NEW</td>\n",
       "      <td>코미디</td>\n",
       "      <td>2012-07-12</td>\n",
       "      <td>101</td>\n",
       "      <td>전체 관람가</td>\n",
       "      <td>구자홍</td>\n",
       "      <td>23894.00</td>\n",
       "      <td>2</td>\n",
       "      <td>20</td>\n",
       "      <td>6</td>\n",
       "      <td>217866</td>\n",
       "    </tr>\n",
       "    <tr>\n",
       "      <th>4</th>\n",
       "      <td>불량남녀</td>\n",
       "      <td>쇼박스(주)미디어플렉스</td>\n",
       "      <td>코미디</td>\n",
       "      <td>2010-11-04</td>\n",
       "      <td>108</td>\n",
       "      <td>15세 관람가</td>\n",
       "      <td>신근호</td>\n",
       "      <td>1.00</td>\n",
       "      <td>1</td>\n",
       "      <td>251</td>\n",
       "      <td>2</td>\n",
       "      <td>483387</td>\n",
       "    </tr>\n",
       "  </tbody>\n",
       "</table>\n",
       "</div>"
      ],
      "text/plain": [
       "        영화제목           배급사   장르         개봉일  상영시간(분)      상영등급 감독이름  \\\n",
       "0     개들의 전쟁      롯데엔터테인먼트   액션  2012-11-22       96  청소년 관람불가  조병옥   \n",
       "1       내부자들        (주)쇼박스  느와르  2015-11-19      130  청소년 관람불가  우민호   \n",
       "2  은밀하게 위대하게        (주)쇼박스   액션  2013-06-05      123   15세 관람가  장철수   \n",
       "3   나는 공무원이다        (주)NEW  코미디  2012-07-12      101    전체 관람가  구자홍   \n",
       "4       불량남녀  쇼박스(주)미디어플렉스  코미디  2010-11-04      108   15세 관람가  신근호   \n",
       "\n",
       "      감독평균관객수  감독참여영화  스태프수  주연배우수      관객수  \n",
       "0         NaN       0    91      2    23398  \n",
       "1  1161602.50       2   387      3  7072501  \n",
       "2   220775.25       4   343      4  6959083  \n",
       "3    23894.00       2    20      6   217866  \n",
       "4        1.00       1   251      2   483387  "
      ]
     },
     "execution_count": 4,
     "metadata": {},
     "output_type": "execute_result"
    }
   ],
   "source": [
    "df_train.head()"
   ]
  },
  {
   "cell_type": "code",
   "execution_count": 5,
   "id": "abf764b5",
   "metadata": {},
   "outputs": [
    {
     "data": {
      "text/html": [
       "<div>\n",
       "<style scoped>\n",
       "    .dataframe tbody tr th:only-of-type {\n",
       "        vertical-align: middle;\n",
       "    }\n",
       "\n",
       "    .dataframe tbody tr th {\n",
       "        vertical-align: top;\n",
       "    }\n",
       "\n",
       "    .dataframe thead th {\n",
       "        text-align: right;\n",
       "    }\n",
       "</style>\n",
       "<table border=\"1\" class=\"dataframe\">\n",
       "  <thead>\n",
       "    <tr style=\"text-align: right;\">\n",
       "      <th></th>\n",
       "      <th>영화제목</th>\n",
       "      <th>배급사</th>\n",
       "      <th>장르</th>\n",
       "      <th>개봉일</th>\n",
       "      <th>상영시간(분)</th>\n",
       "      <th>상영등급</th>\n",
       "      <th>감독이름</th>\n",
       "      <th>감독평균관객수</th>\n",
       "      <th>감독참여영화</th>\n",
       "      <th>스태프수</th>\n",
       "      <th>주연배우수</th>\n",
       "      <th>관객수</th>\n",
       "    </tr>\n",
       "  </thead>\n",
       "  <tbody>\n",
       "    <tr>\n",
       "      <th>595</th>\n",
       "      <td>해무</td>\n",
       "      <td>(주)NEW</td>\n",
       "      <td>드라마</td>\n",
       "      <td>2014-08-13</td>\n",
       "      <td>111</td>\n",
       "      <td>청소년 관람불가</td>\n",
       "      <td>심성보</td>\n",
       "      <td>3833.0</td>\n",
       "      <td>1</td>\n",
       "      <td>510</td>\n",
       "      <td>7</td>\n",
       "      <td>1475091</td>\n",
       "    </tr>\n",
       "    <tr>\n",
       "      <th>596</th>\n",
       "      <td>파파로티</td>\n",
       "      <td>(주)쇼박스</td>\n",
       "      <td>드라마</td>\n",
       "      <td>2013-03-14</td>\n",
       "      <td>127</td>\n",
       "      <td>15세 관람가</td>\n",
       "      <td>윤종찬</td>\n",
       "      <td>496061.0</td>\n",
       "      <td>1</td>\n",
       "      <td>286</td>\n",
       "      <td>6</td>\n",
       "      <td>1716438</td>\n",
       "    </tr>\n",
       "    <tr>\n",
       "      <th>597</th>\n",
       "      <td>살인의 강</td>\n",
       "      <td>(주)마운틴픽쳐스</td>\n",
       "      <td>공포</td>\n",
       "      <td>2010-09-30</td>\n",
       "      <td>99</td>\n",
       "      <td>청소년 관람불가</td>\n",
       "      <td>김대현</td>\n",
       "      <td>NaN</td>\n",
       "      <td>0</td>\n",
       "      <td>123</td>\n",
       "      <td>4</td>\n",
       "      <td>2475</td>\n",
       "    </tr>\n",
       "    <tr>\n",
       "      <th>598</th>\n",
       "      <td>악의 연대기</td>\n",
       "      <td>CJ 엔터테인먼트</td>\n",
       "      <td>느와르</td>\n",
       "      <td>2015-05-14</td>\n",
       "      <td>102</td>\n",
       "      <td>15세 관람가</td>\n",
       "      <td>백운학</td>\n",
       "      <td>NaN</td>\n",
       "      <td>0</td>\n",
       "      <td>431</td>\n",
       "      <td>4</td>\n",
       "      <td>2192525</td>\n",
       "    </tr>\n",
       "    <tr>\n",
       "      <th>599</th>\n",
       "      <td>베를린</td>\n",
       "      <td>CJ 엔터테인먼트</td>\n",
       "      <td>액션</td>\n",
       "      <td>2013-01-30</td>\n",
       "      <td>120</td>\n",
       "      <td>15세 관람가</td>\n",
       "      <td>류승완</td>\n",
       "      <td>NaN</td>\n",
       "      <td>0</td>\n",
       "      <td>363</td>\n",
       "      <td>5</td>\n",
       "      <td>7166532</td>\n",
       "    </tr>\n",
       "  </tbody>\n",
       "</table>\n",
       "</div>"
      ],
      "text/plain": [
       "       영화제목        배급사   장르         개봉일  상영시간(분)      상영등급 감독이름   감독평균관객수  \\\n",
       "595      해무     (주)NEW  드라마  2014-08-13      111  청소년 관람불가  심성보    3833.0   \n",
       "596    파파로티     (주)쇼박스  드라마  2013-03-14      127   15세 관람가  윤종찬  496061.0   \n",
       "597   살인의 강  (주)마운틴픽쳐스   공포  2010-09-30       99  청소년 관람불가  김대현       NaN   \n",
       "598  악의 연대기  CJ 엔터테인먼트  느와르  2015-05-14      102   15세 관람가  백운학       NaN   \n",
       "599     베를린  CJ 엔터테인먼트   액션  2013-01-30      120   15세 관람가  류승완       NaN   \n",
       "\n",
       "     감독참여영화  스태프수  주연배우수      관객수  \n",
       "595       1   510      7  1475091  \n",
       "596       1   286      6  1716438  \n",
       "597       0   123      4     2475  \n",
       "598       0   431      4  2192525  \n",
       "599       0   363      5  7166532  "
      ]
     },
     "execution_count": 5,
     "metadata": {},
     "output_type": "execute_result"
    }
   ],
   "source": [
    "df_train.tail()"
   ]
  },
  {
   "cell_type": "code",
   "execution_count": 6,
   "id": "9be2f51c",
   "metadata": {},
   "outputs": [
    {
     "name": "stdout",
     "output_type": "stream",
     "text": [
      "<class 'pandas.core.frame.DataFrame'>\n",
      "RangeIndex: 600 entries, 0 to 599\n",
      "Data columns (total 12 columns):\n",
      " #   Column   Non-Null Count  Dtype  \n",
      "---  ------   --------------  -----  \n",
      " 0   영화제목     600 non-null    object \n",
      " 1   배급사      600 non-null    object \n",
      " 2   장르       600 non-null    object \n",
      " 3   개봉일      600 non-null    object \n",
      " 4   상영시간(분)  600 non-null    int64  \n",
      " 5   상영등급     600 non-null    object \n",
      " 6   감독이름     600 non-null    object \n",
      " 7   감독평균관객수  270 non-null    float64\n",
      " 8   감독참여영화   600 non-null    int64  \n",
      " 9   스태프수     600 non-null    int64  \n",
      " 10  주연배우수    600 non-null    int64  \n",
      " 11  관객수      600 non-null    int64  \n",
      "dtypes: float64(1), int64(5), object(6)\n",
      "memory usage: 56.4+ KB\n"
     ]
    }
   ],
   "source": [
    "df_train.info()  ## 관객평균관객수에 null 값이 좀 있는듯"
   ]
  },
  {
   "cell_type": "code",
   "execution_count": null,
   "id": "ed0bbf2d",
   "metadata": {},
   "outputs": [],
   "source": []
  },
  {
   "cell_type": "code",
   "execution_count": 7,
   "id": "26406660",
   "metadata": {},
   "outputs": [
    {
     "data": {
      "text/html": [
       "<div>\n",
       "<style scoped>\n",
       "    .dataframe tbody tr th:only-of-type {\n",
       "        vertical-align: middle;\n",
       "    }\n",
       "\n",
       "    .dataframe tbody tr th {\n",
       "        vertical-align: top;\n",
       "    }\n",
       "\n",
       "    .dataframe thead th {\n",
       "        text-align: right;\n",
       "    }\n",
       "</style>\n",
       "<table border=\"1\" class=\"dataframe\">\n",
       "  <thead>\n",
       "    <tr style=\"text-align: right;\">\n",
       "      <th></th>\n",
       "      <th>상영시간(분)</th>\n",
       "      <th>감독평균관객수</th>\n",
       "      <th>감독참여영화</th>\n",
       "      <th>스태프수</th>\n",
       "      <th>주연배우수</th>\n",
       "      <th>관객수</th>\n",
       "    </tr>\n",
       "  </thead>\n",
       "  <tbody>\n",
       "    <tr>\n",
       "      <th>count</th>\n",
       "      <td>600.000000</td>\n",
       "      <td>2.700000e+02</td>\n",
       "      <td>600.000000</td>\n",
       "      <td>600.000000</td>\n",
       "      <td>600.000000</td>\n",
       "      <td>6.000000e+02</td>\n",
       "    </tr>\n",
       "    <tr>\n",
       "      <th>mean</th>\n",
       "      <td>100.863333</td>\n",
       "      <td>1.050443e+06</td>\n",
       "      <td>0.876667</td>\n",
       "      <td>151.118333</td>\n",
       "      <td>3.706667</td>\n",
       "      <td>7.081818e+05</td>\n",
       "    </tr>\n",
       "    <tr>\n",
       "      <th>std</th>\n",
       "      <td>18.097528</td>\n",
       "      <td>1.791408e+06</td>\n",
       "      <td>1.183409</td>\n",
       "      <td>165.654671</td>\n",
       "      <td>2.446889</td>\n",
       "      <td>1.828006e+06</td>\n",
       "    </tr>\n",
       "    <tr>\n",
       "      <th>min</th>\n",
       "      <td>45.000000</td>\n",
       "      <td>1.000000e+00</td>\n",
       "      <td>0.000000</td>\n",
       "      <td>0.000000</td>\n",
       "      <td>0.000000</td>\n",
       "      <td>1.000000e+00</td>\n",
       "    </tr>\n",
       "    <tr>\n",
       "      <th>25%</th>\n",
       "      <td>89.000000</td>\n",
       "      <td>2.038000e+04</td>\n",
       "      <td>0.000000</td>\n",
       "      <td>17.000000</td>\n",
       "      <td>2.000000</td>\n",
       "      <td>1.297250e+03</td>\n",
       "    </tr>\n",
       "    <tr>\n",
       "      <th>50%</th>\n",
       "      <td>100.000000</td>\n",
       "      <td>4.784236e+05</td>\n",
       "      <td>0.000000</td>\n",
       "      <td>82.500000</td>\n",
       "      <td>3.000000</td>\n",
       "      <td>1.259100e+04</td>\n",
       "    </tr>\n",
       "    <tr>\n",
       "      <th>75%</th>\n",
       "      <td>114.000000</td>\n",
       "      <td>1.286569e+06</td>\n",
       "      <td>2.000000</td>\n",
       "      <td>264.000000</td>\n",
       "      <td>4.000000</td>\n",
       "      <td>4.798868e+05</td>\n",
       "    </tr>\n",
       "    <tr>\n",
       "      <th>max</th>\n",
       "      <td>180.000000</td>\n",
       "      <td>1.761531e+07</td>\n",
       "      <td>5.000000</td>\n",
       "      <td>869.000000</td>\n",
       "      <td>25.000000</td>\n",
       "      <td>1.426277e+07</td>\n",
       "    </tr>\n",
       "  </tbody>\n",
       "</table>\n",
       "</div>"
      ],
      "text/plain": [
       "          상영시간(분)       감독평균관객수      감독참여영화        스태프수       주연배우수  \\\n",
       "count  600.000000  2.700000e+02  600.000000  600.000000  600.000000   \n",
       "mean   100.863333  1.050443e+06    0.876667  151.118333    3.706667   \n",
       "std     18.097528  1.791408e+06    1.183409  165.654671    2.446889   \n",
       "min     45.000000  1.000000e+00    0.000000    0.000000    0.000000   \n",
       "25%     89.000000  2.038000e+04    0.000000   17.000000    2.000000   \n",
       "50%    100.000000  4.784236e+05    0.000000   82.500000    3.000000   \n",
       "75%    114.000000  1.286569e+06    2.000000  264.000000    4.000000   \n",
       "max    180.000000  1.761531e+07    5.000000  869.000000   25.000000   \n",
       "\n",
       "                관객수  \n",
       "count  6.000000e+02  \n",
       "mean   7.081818e+05  \n",
       "std    1.828006e+06  \n",
       "min    1.000000e+00  \n",
       "25%    1.297250e+03  \n",
       "50%    1.259100e+04  \n",
       "75%    4.798868e+05  \n",
       "max    1.426277e+07  "
      ]
     },
     "execution_count": 7,
     "metadata": {},
     "output_type": "execute_result"
    }
   ],
   "source": [
    "df_train.describe() ## 주연배우가 0? 스태프 수가 0? -> 이상치"
   ]
  },
  {
   "cell_type": "code",
   "execution_count": 8,
   "id": "677a7817",
   "metadata": {},
   "outputs": [
    {
     "data": {
      "text/html": [
       "<div>\n",
       "<style scoped>\n",
       "    .dataframe tbody tr th:only-of-type {\n",
       "        vertical-align: middle;\n",
       "    }\n",
       "\n",
       "    .dataframe tbody tr th {\n",
       "        vertical-align: top;\n",
       "    }\n",
       "\n",
       "    .dataframe thead th {\n",
       "        text-align: right;\n",
       "    }\n",
       "</style>\n",
       "<table border=\"1\" class=\"dataframe\">\n",
       "  <thead>\n",
       "    <tr style=\"text-align: right;\">\n",
       "      <th></th>\n",
       "      <th>영화제목</th>\n",
       "      <th>배급사</th>\n",
       "      <th>장르</th>\n",
       "      <th>개봉일</th>\n",
       "      <th>상영시간(분)</th>\n",
       "      <th>상영등급</th>\n",
       "      <th>감독이름</th>\n",
       "      <th>감독평균관객수</th>\n",
       "      <th>감독참여영화</th>\n",
       "      <th>스태프수</th>\n",
       "      <th>주연배우수</th>\n",
       "      <th>관객수</th>\n",
       "    </tr>\n",
       "  </thead>\n",
       "  <tbody>\n",
       "    <tr>\n",
       "      <th>107</th>\n",
       "      <td>미국의 바람과 불</td>\n",
       "      <td>시네마 달</td>\n",
       "      <td>다큐멘터리</td>\n",
       "      <td>2012-07-26</td>\n",
       "      <td>118</td>\n",
       "      <td>15세 관람가</td>\n",
       "      <td>김경만</td>\n",
       "      <td>NaN</td>\n",
       "      <td>0</td>\n",
       "      <td>6</td>\n",
       "      <td>0</td>\n",
       "      <td>652</td>\n",
       "    </tr>\n",
       "    <tr>\n",
       "      <th>167</th>\n",
       "      <td>모래가 흐르는 강</td>\n",
       "      <td>시네마 달</td>\n",
       "      <td>다큐멘터리</td>\n",
       "      <td>2013-03-28</td>\n",
       "      <td>75</td>\n",
       "      <td>전체 관람가</td>\n",
       "      <td>지율스님</td>\n",
       "      <td>NaN</td>\n",
       "      <td>0</td>\n",
       "      <td>11</td>\n",
       "      <td>0</td>\n",
       "      <td>10942</td>\n",
       "    </tr>\n",
       "    <tr>\n",
       "      <th>168</th>\n",
       "      <td>망대</td>\n",
       "      <td>골든타이드픽처스</td>\n",
       "      <td>다큐멘터리</td>\n",
       "      <td>2015-03-12</td>\n",
       "      <td>66</td>\n",
       "      <td>전체 관람가</td>\n",
       "      <td>문승욱</td>\n",
       "      <td>NaN</td>\n",
       "      <td>0</td>\n",
       "      <td>13</td>\n",
       "      <td>0</td>\n",
       "      <td>65</td>\n",
       "    </tr>\n",
       "    <tr>\n",
       "      <th>355</th>\n",
       "      <td>오디세오</td>\n",
       "      <td>(주)패뷸러스</td>\n",
       "      <td>뮤지컬</td>\n",
       "      <td>2015-10-22</td>\n",
       "      <td>80</td>\n",
       "      <td>전체 관람가</td>\n",
       "      <td>정성복</td>\n",
       "      <td>NaN</td>\n",
       "      <td>0</td>\n",
       "      <td>0</td>\n",
       "      <td>0</td>\n",
       "      <td>862</td>\n",
       "    </tr>\n",
       "    <tr>\n",
       "      <th>391</th>\n",
       "      <td>명령불복종 교사</td>\n",
       "      <td>인디플러그</td>\n",
       "      <td>다큐멘터리</td>\n",
       "      <td>2015-05-14</td>\n",
       "      <td>96</td>\n",
       "      <td>전체 관람가</td>\n",
       "      <td>서동일</td>\n",
       "      <td>NaN</td>\n",
       "      <td>0</td>\n",
       "      <td>3</td>\n",
       "      <td>0</td>\n",
       "      <td>1827</td>\n",
       "    </tr>\n",
       "    <tr>\n",
       "      <th>418</th>\n",
       "      <td>오월愛</td>\n",
       "      <td>상구네 필름</td>\n",
       "      <td>다큐멘터리</td>\n",
       "      <td>2011-05-12</td>\n",
       "      <td>104</td>\n",
       "      <td>전체 관람가</td>\n",
       "      <td>김태일</td>\n",
       "      <td>NaN</td>\n",
       "      <td>0</td>\n",
       "      <td>4</td>\n",
       "      <td>0</td>\n",
       "      <td>4092</td>\n",
       "    </tr>\n",
       "    <tr>\n",
       "      <th>425</th>\n",
       "      <td>보라</td>\n",
       "      <td>시네마달</td>\n",
       "      <td>다큐멘터리</td>\n",
       "      <td>2011-11-24</td>\n",
       "      <td>136</td>\n",
       "      <td>전체 관람가</td>\n",
       "      <td>이강현</td>\n",
       "      <td>NaN</td>\n",
       "      <td>0</td>\n",
       "      <td>7</td>\n",
       "      <td>0</td>\n",
       "      <td>389</td>\n",
       "    </tr>\n",
       "    <tr>\n",
       "      <th>437</th>\n",
       "      <td>나쁜 나라</td>\n",
       "      <td>(주)시네마달</td>\n",
       "      <td>다큐멘터리</td>\n",
       "      <td>2015-12-03</td>\n",
       "      <td>120</td>\n",
       "      <td>12세 관람가</td>\n",
       "      <td>김진열</td>\n",
       "      <td>NaN</td>\n",
       "      <td>0</td>\n",
       "      <td>2</td>\n",
       "      <td>0</td>\n",
       "      <td>21576</td>\n",
       "    </tr>\n",
       "    <tr>\n",
       "      <th>456</th>\n",
       "      <td>60년전, 사선에서</td>\n",
       "      <td>인터콘미디어</td>\n",
       "      <td>다큐멘터리</td>\n",
       "      <td>2010-06-24</td>\n",
       "      <td>63</td>\n",
       "      <td>전체 관람가</td>\n",
       "      <td>박성미</td>\n",
       "      <td>NaN</td>\n",
       "      <td>0</td>\n",
       "      <td>10</td>\n",
       "      <td>0</td>\n",
       "      <td>79</td>\n",
       "    </tr>\n",
       "  </tbody>\n",
       "</table>\n",
       "</div>"
      ],
      "text/plain": [
       "           영화제목       배급사     장르         개봉일  상영시간(분)     상영등급  감독이름  감독평균관객수  \\\n",
       "107   미국의 바람과 불     시네마 달  다큐멘터리  2012-07-26      118  15세 관람가   김경만      NaN   \n",
       "167   모래가 흐르는 강     시네마 달  다큐멘터리  2013-03-28       75   전체 관람가  지율스님      NaN   \n",
       "168          망대  골든타이드픽처스  다큐멘터리  2015-03-12       66   전체 관람가   문승욱      NaN   \n",
       "355        오디세오   (주)패뷸러스    뮤지컬  2015-10-22       80   전체 관람가   정성복      NaN   \n",
       "391    명령불복종 교사     인디플러그  다큐멘터리  2015-05-14       96   전체 관람가   서동일      NaN   \n",
       "418         오월愛    상구네 필름  다큐멘터리  2011-05-12      104   전체 관람가   김태일      NaN   \n",
       "425          보라      시네마달  다큐멘터리  2011-11-24      136   전체 관람가   이강현      NaN   \n",
       "437       나쁜 나라   (주)시네마달  다큐멘터리  2015-12-03      120  12세 관람가   김진열      NaN   \n",
       "456  60년전, 사선에서    인터콘미디어  다큐멘터리  2010-06-24       63   전체 관람가   박성미      NaN   \n",
       "\n",
       "     감독참여영화  스태프수  주연배우수    관객수  \n",
       "107       0     6      0    652  \n",
       "167       0    11      0  10942  \n",
       "168       0    13      0     65  \n",
       "355       0     0      0    862  \n",
       "391       0     3      0   1827  \n",
       "418       0     4      0   4092  \n",
       "425       0     7      0    389  \n",
       "437       0     2      0  21576  \n",
       "456       0    10      0     79  "
      ]
     },
     "execution_count": 8,
     "metadata": {},
     "output_type": "execute_result"
    }
   ],
   "source": [
    "df_train[df_train[\"주연배우수\"] == 0] ## 다큐멘터리나 뮤지컬이면 그럴 수 있을듯"
   ]
  },
  {
   "cell_type": "code",
   "execution_count": 9,
   "id": "c8d0a35d",
   "metadata": {},
   "outputs": [
    {
     "data": {
      "text/html": [
       "<div>\n",
       "<style scoped>\n",
       "    .dataframe tbody tr th:only-of-type {\n",
       "        vertical-align: middle;\n",
       "    }\n",
       "\n",
       "    .dataframe tbody tr th {\n",
       "        vertical-align: top;\n",
       "    }\n",
       "\n",
       "    .dataframe thead th {\n",
       "        text-align: right;\n",
       "    }\n",
       "</style>\n",
       "<table border=\"1\" class=\"dataframe\">\n",
       "  <thead>\n",
       "    <tr style=\"text-align: right;\">\n",
       "      <th></th>\n",
       "      <th>영화제목</th>\n",
       "      <th>배급사</th>\n",
       "      <th>장르</th>\n",
       "      <th>개봉일</th>\n",
       "      <th>상영시간(분)</th>\n",
       "      <th>상영등급</th>\n",
       "      <th>감독이름</th>\n",
       "      <th>감독평균관객수</th>\n",
       "      <th>감독참여영화</th>\n",
       "      <th>스태프수</th>\n",
       "      <th>주연배우수</th>\n",
       "      <th>관객수</th>\n",
       "    </tr>\n",
       "  </thead>\n",
       "  <tbody>\n",
       "    <tr>\n",
       "      <th>339</th>\n",
       "      <td>바보야</td>\n",
       "      <td>(주)마운틴픽쳐스</td>\n",
       "      <td>다큐멘터리</td>\n",
       "      <td>2011-04-21</td>\n",
       "      <td>73</td>\n",
       "      <td>전체 관람가</td>\n",
       "      <td>강성옥</td>\n",
       "      <td>NaN</td>\n",
       "      <td>0</td>\n",
       "      <td>0</td>\n",
       "      <td>2</td>\n",
       "      <td>17912</td>\n",
       "    </tr>\n",
       "    <tr>\n",
       "      <th>275</th>\n",
       "      <td>아름다운 유산</td>\n",
       "      <td>제나두 엔터테인먼트</td>\n",
       "      <td>드라마</td>\n",
       "      <td>2011-04-14</td>\n",
       "      <td>104</td>\n",
       "      <td>전체 관람가</td>\n",
       "      <td>김창만</td>\n",
       "      <td>NaN</td>\n",
       "      <td>0</td>\n",
       "      <td>0</td>\n",
       "      <td>6</td>\n",
       "      <td>678</td>\n",
       "    </tr>\n",
       "    <tr>\n",
       "      <th>541</th>\n",
       "      <td>어이그 저 귓것</td>\n",
       "      <td>영화사 진진</td>\n",
       "      <td>드라마</td>\n",
       "      <td>2011-08-25</td>\n",
       "      <td>90</td>\n",
       "      <td>전체 관람가</td>\n",
       "      <td>오멸</td>\n",
       "      <td>NaN</td>\n",
       "      <td>0</td>\n",
       "      <td>0</td>\n",
       "      <td>5</td>\n",
       "      <td>732</td>\n",
       "    </tr>\n",
       "    <tr>\n",
       "      <th>238</th>\n",
       "      <td>미쓰 마마</td>\n",
       "      <td>찬란</td>\n",
       "      <td>다큐멘터리</td>\n",
       "      <td>2012-10-18</td>\n",
       "      <td>82</td>\n",
       "      <td>15세 관람가</td>\n",
       "      <td>백연아</td>\n",
       "      <td>2914.00</td>\n",
       "      <td>1</td>\n",
       "      <td>0</td>\n",
       "      <td>4</td>\n",
       "      <td>1526</td>\n",
       "    </tr>\n",
       "    <tr>\n",
       "      <th>88</th>\n",
       "      <td>야누스: 욕망의 두 얼굴</td>\n",
       "      <td>(주)패스파인더씨앤씨</td>\n",
       "      <td>미스터리</td>\n",
       "      <td>2014-08-14</td>\n",
       "      <td>83</td>\n",
       "      <td>청소년 관람불가</td>\n",
       "      <td>손영국</td>\n",
       "      <td>332.00</td>\n",
       "      <td>1</td>\n",
       "      <td>0</td>\n",
       "      <td>3</td>\n",
       "      <td>4122</td>\n",
       "    </tr>\n",
       "    <tr>\n",
       "      <th>567</th>\n",
       "      <td>술에 대하여 - 극장판</td>\n",
       "      <td>이모션 픽처스</td>\n",
       "      <td>다큐멘터리</td>\n",
       "      <td>2011-09-01</td>\n",
       "      <td>72</td>\n",
       "      <td>15세 관람가</td>\n",
       "      <td>임범</td>\n",
       "      <td>NaN</td>\n",
       "      <td>0</td>\n",
       "      <td>0</td>\n",
       "      <td>2</td>\n",
       "      <td>541</td>\n",
       "    </tr>\n",
       "    <tr>\n",
       "      <th>549</th>\n",
       "      <td>맛있는 택배</td>\n",
       "      <td>(주)로드하우스</td>\n",
       "      <td>멜로/로맨스</td>\n",
       "      <td>2015-04-02</td>\n",
       "      <td>84</td>\n",
       "      <td>청소년 관람불가</td>\n",
       "      <td>기대호</td>\n",
       "      <td>NaN</td>\n",
       "      <td>0</td>\n",
       "      <td>0</td>\n",
       "      <td>1</td>\n",
       "      <td>6226</td>\n",
       "    </tr>\n",
       "    <tr>\n",
       "      <th>526</th>\n",
       "      <td>고스트 메신저 극장판</td>\n",
       "      <td>에이원 엔터테인먼트</td>\n",
       "      <td>애니메이션</td>\n",
       "      <td>2014-05-22</td>\n",
       "      <td>78</td>\n",
       "      <td>12세 관람가</td>\n",
       "      <td>구봉회</td>\n",
       "      <td>NaN</td>\n",
       "      <td>0</td>\n",
       "      <td>0</td>\n",
       "      <td>5</td>\n",
       "      <td>23802</td>\n",
       "    </tr>\n",
       "    <tr>\n",
       "      <th>500</th>\n",
       "      <td>한양 기방 춘향뎐</td>\n",
       "      <td>(주) 케이알씨지</td>\n",
       "      <td>멜로/로맨스</td>\n",
       "      <td>2015-11-25</td>\n",
       "      <td>89</td>\n",
       "      <td>청소년 관람불가</td>\n",
       "      <td>김민욱</td>\n",
       "      <td>NaN</td>\n",
       "      <td>0</td>\n",
       "      <td>0</td>\n",
       "      <td>1</td>\n",
       "      <td>400</td>\n",
       "    </tr>\n",
       "    <tr>\n",
       "      <th>307</th>\n",
       "      <td>당신은 아름답다</td>\n",
       "      <td>마운틴 픽처스</td>\n",
       "      <td>다큐멘터리</td>\n",
       "      <td>2010-08-26</td>\n",
       "      <td>75</td>\n",
       "      <td>전체 관람가</td>\n",
       "      <td>백승창</td>\n",
       "      <td>481459.25</td>\n",
       "      <td>4</td>\n",
       "      <td>0</td>\n",
       "      <td>1</td>\n",
       "      <td>240</td>\n",
       "    </tr>\n",
       "  </tbody>\n",
       "</table>\n",
       "</div>"
      ],
      "text/plain": [
       "              영화제목          배급사      장르         개봉일  상영시간(분)      상영등급 감독이름  \\\n",
       "339            바보야    (주)마운틴픽쳐스   다큐멘터리  2011-04-21       73    전체 관람가  강성옥   \n",
       "275        아름다운 유산   제나두 엔터테인먼트     드라마  2011-04-14      104    전체 관람가  김창만   \n",
       "541       어이그 저 귓것       영화사 진진     드라마  2011-08-25       90    전체 관람가   오멸   \n",
       "238          미쓰 마마           찬란   다큐멘터리  2012-10-18       82   15세 관람가  백연아   \n",
       "88   야누스: 욕망의 두 얼굴  (주)패스파인더씨앤씨    미스터리  2014-08-14       83  청소년 관람불가  손영국   \n",
       "567   술에 대하여 - 극장판      이모션 픽처스   다큐멘터리  2011-09-01       72   15세 관람가   임범   \n",
       "549         맛있는 택배     (주)로드하우스  멜로/로맨스  2015-04-02       84  청소년 관람불가  기대호   \n",
       "526    고스트 메신저 극장판   에이원 엔터테인먼트   애니메이션  2014-05-22       78   12세 관람가  구봉회   \n",
       "500      한양 기방 춘향뎐    (주) 케이알씨지  멜로/로맨스  2015-11-25       89  청소년 관람불가  김민욱   \n",
       "307       당신은 아름답다      마운틴 픽처스   다큐멘터리  2010-08-26       75    전체 관람가  백승창   \n",
       "\n",
       "       감독평균관객수  감독참여영화  스태프수  주연배우수    관객수  \n",
       "339        NaN       0     0      2  17912  \n",
       "275        NaN       0     0      6    678  \n",
       "541        NaN       0     0      5    732  \n",
       "238    2914.00       1     0      4   1526  \n",
       "88      332.00       1     0      3   4122  \n",
       "567        NaN       0     0      2    541  \n",
       "549        NaN       0     0      1   6226  \n",
       "526        NaN       0     0      5  23802  \n",
       "500        NaN       0     0      1    400  \n",
       "307  481459.25       4     0      1    240  "
      ]
     },
     "execution_count": 9,
     "metadata": {},
     "output_type": "execute_result"
    }
   ],
   "source": [
    "df_train[df_train[\"스태프수\"] == 0].sample(10) ## 애매한 수치들이 포함.."
   ]
  },
  {
   "cell_type": "markdown",
   "id": "f121c11f",
   "metadata": {},
   "source": [
    "### test set"
   ]
  },
  {
   "cell_type": "code",
   "execution_count": 10,
   "id": "1f140249",
   "metadata": {},
   "outputs": [
    {
     "data": {
      "text/plain": [
       "(243, 11)"
      ]
     },
     "execution_count": 10,
     "metadata": {},
     "output_type": "execute_result"
    }
   ],
   "source": [
    "df_test.shape ## output column이 하나 빠짐"
   ]
  },
  {
   "cell_type": "code",
   "execution_count": 11,
   "id": "dd519601",
   "metadata": {},
   "outputs": [
    {
     "name": "stdout",
     "output_type": "stream",
     "text": [
      "<class 'pandas.core.frame.DataFrame'>\n",
      "RangeIndex: 243 entries, 0 to 242\n",
      "Data columns (total 11 columns):\n",
      " #   Column   Non-Null Count  Dtype  \n",
      "---  ------   --------------  -----  \n",
      " 0   영화제목     243 non-null    object \n",
      " 1   배급사      243 non-null    object \n",
      " 2   장르       243 non-null    object \n",
      " 3   개봉일      243 non-null    object \n",
      " 4   상영시간(분)  243 non-null    int64  \n",
      " 5   상영등급     243 non-null    object \n",
      " 6   감독이름     243 non-null    object \n",
      " 7   감독평균관객수  107 non-null    float64\n",
      " 8   감독참여영화   243 non-null    int64  \n",
      " 9   스태프수     243 non-null    int64  \n",
      " 10  주연배우수    243 non-null    int64  \n",
      "dtypes: float64(1), int64(4), object(6)\n",
      "memory usage: 21.0+ KB\n"
     ]
    }
   ],
   "source": [
    "df_test.info() ## test와 마찬가지로 감독평균관객수에 null 값이 좀 있음"
   ]
  },
  {
   "cell_type": "code",
   "execution_count": 12,
   "id": "9e3bb899",
   "metadata": {},
   "outputs": [
    {
     "data": {
      "text/html": [
       "<div>\n",
       "<style scoped>\n",
       "    .dataframe tbody tr th:only-of-type {\n",
       "        vertical-align: middle;\n",
       "    }\n",
       "\n",
       "    .dataframe tbody tr th {\n",
       "        vertical-align: top;\n",
       "    }\n",
       "\n",
       "    .dataframe thead th {\n",
       "        text-align: right;\n",
       "    }\n",
       "</style>\n",
       "<table border=\"1\" class=\"dataframe\">\n",
       "  <thead>\n",
       "    <tr style=\"text-align: right;\">\n",
       "      <th></th>\n",
       "      <th>영화제목</th>\n",
       "      <th>배급사</th>\n",
       "      <th>장르</th>\n",
       "      <th>개봉일</th>\n",
       "      <th>상영시간(분)</th>\n",
       "      <th>상영등급</th>\n",
       "      <th>감독이름</th>\n",
       "      <th>감독평균관객수</th>\n",
       "      <th>감독참여영화</th>\n",
       "      <th>스태프수</th>\n",
       "      <th>주연배우수</th>\n",
       "    </tr>\n",
       "  </thead>\n",
       "  <tbody>\n",
       "    <tr>\n",
       "      <th>0</th>\n",
       "      <td>용서는 없다</td>\n",
       "      <td>시네마서비스</td>\n",
       "      <td>느와르</td>\n",
       "      <td>2010-01-07</td>\n",
       "      <td>125</td>\n",
       "      <td>청소년 관람불가</td>\n",
       "      <td>김형준</td>\n",
       "      <td>3.005290e+05</td>\n",
       "      <td>2</td>\n",
       "      <td>304</td>\n",
       "      <td>3</td>\n",
       "    </tr>\n",
       "    <tr>\n",
       "      <th>1</th>\n",
       "      <td>아빠가 여자를 좋아해</td>\n",
       "      <td>(주)쇼박스</td>\n",
       "      <td>멜로/로맨스</td>\n",
       "      <td>2010-01-14</td>\n",
       "      <td>113</td>\n",
       "      <td>12세 관람가</td>\n",
       "      <td>이광재</td>\n",
       "      <td>3.427002e+05</td>\n",
       "      <td>4</td>\n",
       "      <td>275</td>\n",
       "      <td>3</td>\n",
       "    </tr>\n",
       "    <tr>\n",
       "      <th>2</th>\n",
       "      <td>하모니</td>\n",
       "      <td>CJ 엔터테인먼트</td>\n",
       "      <td>드라마</td>\n",
       "      <td>2010-01-28</td>\n",
       "      <td>115</td>\n",
       "      <td>12세 관람가</td>\n",
       "      <td>강대규</td>\n",
       "      <td>4.206611e+06</td>\n",
       "      <td>3</td>\n",
       "      <td>419</td>\n",
       "      <td>7</td>\n",
       "    </tr>\n",
       "    <tr>\n",
       "      <th>3</th>\n",
       "      <td>의형제</td>\n",
       "      <td>(주)쇼박스</td>\n",
       "      <td>액션</td>\n",
       "      <td>2010-02-04</td>\n",
       "      <td>116</td>\n",
       "      <td>15세 관람가</td>\n",
       "      <td>장훈</td>\n",
       "      <td>6.913420e+05</td>\n",
       "      <td>2</td>\n",
       "      <td>408</td>\n",
       "      <td>2</td>\n",
       "    </tr>\n",
       "    <tr>\n",
       "      <th>4</th>\n",
       "      <td>평행 이론</td>\n",
       "      <td>CJ 엔터테인먼트</td>\n",
       "      <td>공포</td>\n",
       "      <td>2010-02-18</td>\n",
       "      <td>110</td>\n",
       "      <td>15세 관람가</td>\n",
       "      <td>권호영</td>\n",
       "      <td>3.173800e+04</td>\n",
       "      <td>1</td>\n",
       "      <td>380</td>\n",
       "      <td>1</td>\n",
       "    </tr>\n",
       "  </tbody>\n",
       "</table>\n",
       "</div>"
      ],
      "text/plain": [
       "          영화제목        배급사      장르         개봉일  상영시간(분)      상영등급 감독이름  \\\n",
       "0       용서는 없다     시네마서비스     느와르  2010-01-07      125  청소년 관람불가  김형준   \n",
       "1  아빠가 여자를 좋아해     (주)쇼박스  멜로/로맨스  2010-01-14      113   12세 관람가  이광재   \n",
       "2          하모니  CJ 엔터테인먼트     드라마  2010-01-28      115   12세 관람가  강대규   \n",
       "3          의형제     (주)쇼박스      액션  2010-02-04      116   15세 관람가   장훈   \n",
       "4        평행 이론  CJ 엔터테인먼트      공포  2010-02-18      110   15세 관람가  권호영   \n",
       "\n",
       "        감독평균관객수  감독참여영화  스태프수  주연배우수  \n",
       "0  3.005290e+05       2   304      3  \n",
       "1  3.427002e+05       4   275      3  \n",
       "2  4.206611e+06       3   419      7  \n",
       "3  6.913420e+05       2   408      2  \n",
       "4  3.173800e+04       1   380      1  "
      ]
     },
     "execution_count": 12,
     "metadata": {},
     "output_type": "execute_result"
    }
   ],
   "source": [
    "df_test.head()"
   ]
  },
  {
   "cell_type": "code",
   "execution_count": 13,
   "id": "5c2ec126",
   "metadata": {},
   "outputs": [
    {
     "data": {
      "text/html": [
       "<div>\n",
       "<style scoped>\n",
       "    .dataframe tbody tr th:only-of-type {\n",
       "        vertical-align: middle;\n",
       "    }\n",
       "\n",
       "    .dataframe tbody tr th {\n",
       "        vertical-align: top;\n",
       "    }\n",
       "\n",
       "    .dataframe thead th {\n",
       "        text-align: right;\n",
       "    }\n",
       "</style>\n",
       "<table border=\"1\" class=\"dataframe\">\n",
       "  <thead>\n",
       "    <tr style=\"text-align: right;\">\n",
       "      <th></th>\n",
       "      <th>영화제목</th>\n",
       "      <th>배급사</th>\n",
       "      <th>장르</th>\n",
       "      <th>개봉일</th>\n",
       "      <th>상영시간(분)</th>\n",
       "      <th>상영등급</th>\n",
       "      <th>감독이름</th>\n",
       "      <th>감독평균관객수</th>\n",
       "      <th>감독참여영화</th>\n",
       "      <th>스태프수</th>\n",
       "      <th>주연배우수</th>\n",
       "    </tr>\n",
       "  </thead>\n",
       "  <tbody>\n",
       "    <tr>\n",
       "      <th>238</th>\n",
       "      <td>해에게서 소년에게</td>\n",
       "      <td>디씨드</td>\n",
       "      <td>드라마</td>\n",
       "      <td>2015-11-19</td>\n",
       "      <td>78</td>\n",
       "      <td>15세 관람가</td>\n",
       "      <td>안슬기</td>\n",
       "      <td>2590.0</td>\n",
       "      <td>1</td>\n",
       "      <td>4</td>\n",
       "      <td>4</td>\n",
       "    </tr>\n",
       "    <tr>\n",
       "      <th>239</th>\n",
       "      <td>울보 권투부</td>\n",
       "      <td>인디스토리</td>\n",
       "      <td>다큐멘터리</td>\n",
       "      <td>2015-10-29</td>\n",
       "      <td>86</td>\n",
       "      <td>12세 관람가</td>\n",
       "      <td>이일하</td>\n",
       "      <td>NaN</td>\n",
       "      <td>0</td>\n",
       "      <td>18</td>\n",
       "      <td>2</td>\n",
       "    </tr>\n",
       "    <tr>\n",
       "      <th>240</th>\n",
       "      <td>어떤살인</td>\n",
       "      <td>(주)컨텐츠온미디어</td>\n",
       "      <td>느와르</td>\n",
       "      <td>2015-10-28</td>\n",
       "      <td>107</td>\n",
       "      <td>청소년 관람불가</td>\n",
       "      <td>안용훈</td>\n",
       "      <td>NaN</td>\n",
       "      <td>0</td>\n",
       "      <td>224</td>\n",
       "      <td>4</td>\n",
       "    </tr>\n",
       "    <tr>\n",
       "      <th>241</th>\n",
       "      <td>말하지 못한 비밀</td>\n",
       "      <td>(주)씨타마운틴픽쳐스</td>\n",
       "      <td>드라마</td>\n",
       "      <td>2015-10-22</td>\n",
       "      <td>102</td>\n",
       "      <td>청소년 관람불가</td>\n",
       "      <td>송동윤</td>\n",
       "      <td>50699.0</td>\n",
       "      <td>1</td>\n",
       "      <td>68</td>\n",
       "      <td>7</td>\n",
       "    </tr>\n",
       "    <tr>\n",
       "      <th>242</th>\n",
       "      <td>조선안방 스캔들-칠거지악 2</td>\n",
       "      <td>(주) 케이알씨지</td>\n",
       "      <td>멜로/로맨스</td>\n",
       "      <td>2015-10-22</td>\n",
       "      <td>76</td>\n",
       "      <td>청소년 관람불가</td>\n",
       "      <td>이전</td>\n",
       "      <td>NaN</td>\n",
       "      <td>0</td>\n",
       "      <td>10</td>\n",
       "      <td>4</td>\n",
       "    </tr>\n",
       "  </tbody>\n",
       "</table>\n",
       "</div>"
      ],
      "text/plain": [
       "                영화제목          배급사      장르         개봉일  상영시간(분)      상영등급 감독이름  \\\n",
       "238        해에게서 소년에게          디씨드     드라마  2015-11-19       78   15세 관람가  안슬기   \n",
       "239           울보 권투부        인디스토리   다큐멘터리  2015-10-29       86   12세 관람가  이일하   \n",
       "240             어떤살인   (주)컨텐츠온미디어     느와르  2015-10-28      107  청소년 관람불가  안용훈   \n",
       "241        말하지 못한 비밀  (주)씨타마운틴픽쳐스     드라마  2015-10-22      102  청소년 관람불가  송동윤   \n",
       "242  조선안방 스캔들-칠거지악 2    (주) 케이알씨지  멜로/로맨스  2015-10-22       76  청소년 관람불가   이전   \n",
       "\n",
       "     감독평균관객수  감독참여영화  스태프수  주연배우수  \n",
       "238   2590.0       1     4      4  \n",
       "239      NaN       0    18      2  \n",
       "240      NaN       0   224      4  \n",
       "241  50699.0       1    68      7  \n",
       "242      NaN       0    10      4  "
      ]
     },
     "execution_count": 13,
     "metadata": {},
     "output_type": "execute_result"
    }
   ],
   "source": [
    "df_test.tail()"
   ]
  },
  {
   "cell_type": "markdown",
   "id": "ac87b45c",
   "metadata": {},
   "source": [
    "## EDA"
   ]
  },
  {
   "cell_type": "code",
   "execution_count": 14,
   "id": "8a4914d2",
   "metadata": {},
   "outputs": [
    {
     "data": {
      "text/plain": [
       "<AxesSubplot:>"
      ]
     },
     "execution_count": 14,
     "metadata": {},
     "output_type": "execute_result"
    },
    {
     "data": {
      "image/png": "[encoded data removed]",
      "text/plain": [
       "<Figure size 864x432 with 2 Axes>"
      ]
     },
     "metadata": {
      "needs_background": "light"
     },
     "output_type": "display_data"
    }
   ],
   "source": [
    "df_train_corr = df_train.corr(method = \"pearson\")\n",
    "plt.figure(figsize = (12,6))\n",
    "sns.heatmap(df_train_corr, annot= True, cmap = \"RdBu_r\", vmax = 1, vmin = -1, )\n",
    "### 상영시간(분), 스태프수 가 기본적으로 관객수와 정적상관이 높음"
   ]
  },
  {
   "cell_type": "markdown",
   "id": "a2e993bf",
   "metadata": {},
   "source": [
    "### 전처리\n",
    "팀원들이 각자 컬럼별로 파트를 맡아서 전처리 후 개인적으로 추가 전처리\n",
    "\n",
    "범주형 컬럼들을 수치화 하기 위해, 각 컬럼에서 구분별 관객수 중앙값을 활용해 순위 계산"
   ]
  },
  {
   "cell_type": "markdown",
   "id": "f3b1e342",
   "metadata": {},
   "source": [
    "#### 배급사(지홍)"
   ]
  },
  {
   "cell_type": "code",
   "execution_count": 15,
   "id": "f9b49415",
   "metadata": {
    "scrolled": false
   },
   "outputs": [
    {
     "data": {
      "text/plain": [
       "['(주) 브릿지웍스',\n",
       " '(주) 액티버스엔터테인먼트',\n",
       " '(주) 영화사조제',\n",
       " '(주) 영화제작전원사',\n",
       " '(주) 케이알씨지',\n",
       " '(주)JK필름',\n",
       " '(주)NEW',\n",
       " '(주)고앤고 필름',\n",
       " '(주)노버스엔터테인먼트',\n",
       " '(주)대명문화공장',\n",
       " '(주)더픽쳐스',\n",
       " '(주)두타연',\n",
       " '(주)드림팩트엔터테인먼트',\n",
       " '(주)랠리버튼',\n",
       " '(주)레인보우 팩토리',\n",
       " '(주)로드하우스',\n",
       " '(주)리틀빅픽처스',\n",
       " '(주)마운틴픽쳐스',\n",
       " '(주)마인스 엔터테인먼트',\n",
       " '(주)마인스엔터테인먼트',\n",
       " '(주)미디어데이',\n",
       " '(주)쇼박스',\n",
       " '(주)스마일이엔티',\n",
       " '(주)스톰픽쳐스코리아',\n",
       " '(주)시네마달',\n",
       " '(주)씨엠닉스',\n",
       " '(주)아우라픽처스',\n",
       " '(주)아이필름코퍼레이션',\n",
       " '(주)에이원 엔터테인먼트',\n",
       " '(주)엣나인필름',\n",
       " '(주)예지림 엔터테인먼트',\n",
       " '(주)온비즈넷',\n",
       " '(주)유비네트워크',\n",
       " '(주)유비콘텐츠',\n",
       " '(주)이스트스카이필름',\n",
       " '(주)콘텐츠 윙',\n",
       " '(주)키노아이',\n",
       " '(주)팝 파트너스',\n",
       " '(주)팝엔터테인먼트',\n",
       " '(주)패뷸러스',\n",
       " '(주)패스파인더씨앤씨',\n",
       " '(주)프레인글로벌',\n",
       " '(주)피터팬픽쳐스',\n",
       " '(주)휘엔터테인먼트',\n",
       " 'BoXoo 엔터테인먼트',\n",
       " 'CGV 무비꼴라쥬',\n",
       " 'CGV 아트하우스',\n",
       " 'CGV아트하우스',\n",
       " 'CJ CGV',\n",
       " 'CJ E&M Pictures',\n",
       " 'CJ E&M 영화부문',\n",
       " 'CJ 엔터테인먼트',\n",
       " 'KBS미디어(주)',\n",
       " 'KT',\n",
       " 'KT&G 상상마당',\n",
       " 'M2픽처스',\n",
       " 'NEW',\n",
       " 'OAL(올)',\n",
       " 'SBS콘텐츠허브',\n",
       " 'SK텔레콤(주)',\n",
       " 'SK플래닛',\n",
       " 'THE 픽쳐스',\n",
       " 'tvN',\n",
       " 'ysfilm',\n",
       " '건시네마',\n",
       " '고구마공작소',\n",
       " '골든타이드픽처스',\n",
       " '김기덕 필름',\n",
       " '나우콘텐츠',\n",
       " '나이너스엔터테인먼트(주)',\n",
       " '노바엔터테인먼트',\n",
       " '더 피플',\n",
       " '더픽쳐스/(주)마운틴픽쳐스',\n",
       " '동국대학교 충무로영상제작센터',\n",
       " '두 엔터테인먼트',\n",
       " '드림로드',\n",
       " '드림팩트 엔터테인먼트',\n",
       " '디 씨드',\n",
       " '디마엔터테인먼트',\n",
       " '롤러코스터 프로덕션',\n",
       " '롯데엔터테인먼트',\n",
       " '리틀빅픽처스',\n",
       " '리틀빅픽쳐스',\n",
       " '마노엔터테인먼트',\n",
       " '마법사필름',\n",
       " '마운틴 픽처스',\n",
       " '머스트 씨 무비',\n",
       " '메가박스(주)플러스엠',\n",
       " '무비꼴라쥬',\n",
       " '미라클 필름',\n",
       " '백두대간',\n",
       " '보람엔터테인먼트',\n",
       " '사람과 사람들',\n",
       " '상구네 필름',\n",
       " '새인컴퍼니',\n",
       " '서울독립영화제',\n",
       " '쇼박스(주)미디어플렉스',\n",
       " '스크린조이',\n",
       " '스토리셋',\n",
       " '스튜디오 느림보',\n",
       " '스튜디오 블루',\n",
       " '스튜디오후크',\n",
       " '스폰지',\n",
       " '스폰지이엔티',\n",
       " '시너지',\n",
       " '시네마 달',\n",
       " '시네마달',\n",
       " '시네마서비스',\n",
       " '싸이더스',\n",
       " '싸이더스 FNH',\n",
       " '싸이더스FNH',\n",
       " '씨너스엔터테인먼트(주)',\n",
       " '씨네굿필름',\n",
       " '씨네그루(주)키다리이엔티',\n",
       " '아방가르드 필름',\n",
       " '어뮤즈',\n",
       " '어썸 피플',\n",
       " '에스와이코마드',\n",
       " '에스피엠',\n",
       " '에이블엔터테인먼트',\n",
       " '에이원 엔터테인먼트',\n",
       " '영구아트무비',\n",
       " '영화사 廊',\n",
       " '영화사 조아',\n",
       " '영화사 진진',\n",
       " '영희야놀자',\n",
       " '오퍼스픽쳐스',\n",
       " '와이드 릴리즈(주)',\n",
       " '와이드릴리즈(주)',\n",
       " '웃기씨네',\n",
       " '위더스필름',\n",
       " '위드시네마',\n",
       " '유니버설픽쳐스인터내셔널코리아',\n",
       " '이달투',\n",
       " '이모션 픽처스',\n",
       " '이상우필름',\n",
       " '이십세기폭스코리아(주)',\n",
       " '인디스토리',\n",
       " '인디플러그',\n",
       " '인벤트 디',\n",
       " '인터콘미디어',\n",
       " '인피니티엔터테인먼트',\n",
       " '쟈비스미디어',\n",
       " '전망좋은영화사',\n",
       " '전주국제영화제',\n",
       " '제나두 엔터테인먼트',\n",
       " '조이앤시네마',\n",
       " '조이앤컨텐츠그룹',\n",
       " '주머니필름',\n",
       " '찬란',\n",
       " '케이엠스타',\n",
       " '콘텐츠판다',\n",
       " '크리에이티브컴즈(주)',\n",
       " '키노엔터테인먼트',\n",
       " '타임스토리그룹',\n",
       " '트리필름',\n",
       " '파이오니아21',\n",
       " '판다미디어',\n",
       " '판씨네마(주)',\n",
       " '팜코리아미디어',\n",
       " '퍼스트런',\n",
       " '프로젝트 엠피',\n",
       " '프리비젼 엔터테인먼트',\n",
       " '필라멘트 픽쳐스',\n",
       " '필름라인',\n",
       " '하준사',\n",
       " '한국YWCA연합회',\n",
       " '홀리가든',\n",
       " '화앤담이엔티']"
      ]
     },
     "execution_count": 15,
     "metadata": {},
     "output_type": "execute_result"
    }
   ],
   "source": [
    "dstb_list = df_train[\"배급사\"].unique().tolist()\n",
    "dstb_list.sort()\n",
    "dstb_list\n",
    "# 기본적으로 (주)/(유)는 좀 불필요해보이고 같은 회사가 다른이름으로 들어간 케이스들이 존재 (예: 'CGV 무비꼴라쥬',\n",
    "#  'CGV 아트하우스',  'CGV아트하우스',  'CJ CGV',  'CJ E&M Pictures',  'CJ E&M 영화부문',  'CJ 엔터테인먼트'"
   ]
  },
  {
   "cell_type": "code",
   "execution_count": 16,
   "id": "e8b3b13e",
   "metadata": {},
   "outputs": [
    {
     "data": {
      "text/plain": [
       "169"
      ]
     },
     "execution_count": 16,
     "metadata": {},
     "output_type": "execute_result"
    }
   ],
   "source": [
    "df_train[\"배급사\"].sort_values().nunique() ## 전처리 전 배급사 개수 "
   ]
  },
  {
   "cell_type": "code",
   "execution_count": 17,
   "id": "9e27876f",
   "metadata": {},
   "outputs": [
    {
     "data": {
      "text/plain": [
       "<AxesSubplot:>"
      ]
     },
     "execution_count": 17,
     "metadata": {},
     "output_type": "execute_result"
    },
    {
     "data": {
      "image/png": "[encoded data removed]",
      "text/plain": [
       "<Figure size 432x288 with 1 Axes>"
      ]
     },
     "metadata": {
      "needs_background": "light"
     },
     "output_type": "display_data"
    }
   ],
   "source": [
    "df_train[\"배급사\"].value_counts().nlargest(10).plot.bar(x = \"배급사\") ##  train set에 포함된 배급사 빈도 상위 10개 회사"
   ]
  },
  {
   "cell_type": "code",
   "execution_count": 18,
   "id": "a989b21b",
   "metadata": {},
   "outputs": [
    {
     "data": {
      "text/plain": [
       "<AxesSubplot:>"
      ]
     },
     "execution_count": 18,
     "metadata": {},
     "output_type": "execute_result"
    },
    {
     "data": {
      "image/png": "[encoded data removed]",
      "text/plain": [
       "<Figure size 432x288 with 1 Axes>"
      ]
     },
     "metadata": {
      "needs_background": "light"
     },
     "output_type": "display_data"
    }
   ],
   "source": [
    "df_train[\"배급사\"].value_counts().nsmallest(10).plot.bar(x = \"배급사\") ##  train set에 포함된 배급사 빈도 하위 10개 회사 (모두 1)"
   ]
  },
  {
   "cell_type": "markdown",
   "id": "0e080160",
   "metadata": {},
   "source": [
    "* 배급사 전처리 전략\n",
    "\n",
    "df_train과 df_test를 합친후\n",
    "\n",
    "1) (유)/(주)/엔터테인먼트/스튜디오/영화사 등의 의미가 적은 단어들 제거 후 split후 앞단어의 3글자 -> \"배급사명_요약\"\n",
    "\n",
    "2) \"배급사명_요약\"에 따라 빈도수 계산 -> \"배급사_빈도\"\n",
    "\n",
    "3) \"배급사명_요약\"에 따라 관객수 중앙값 계산 -> \"배급사_관객순위\""
   ]
  },
  {
   "cell_type": "code",
   "execution_count": 19,
   "id": "9f83a58b",
   "metadata": {},
   "outputs": [],
   "source": [
    "def preprocessing_dstb(df_train, df_test):\n",
    "    df = pd.concat([df_train[[\"배급사\"]], df_test[[\"배급사\"]]])\n",
    "    df[\"배급사명_요약\"] = df[\"배급사\"].str.replace('\\(유\\)|\\(주\\)|엔터테인먼트|스튜디오|영화사', ' ').str.split().map(lambda x : x[0][:3])\n",
    "    \n",
    "    abbr_dict = dict(df[[\"배급사\", '배급사명_요약']].values)\n",
    "\n",
    "    df_train[\"배급사명_요약\"] = df_train[\"배급사\"].map(abbr_dict)     \n",
    "    df_test[\"배급사명_요약\"] = df_test[\"배급사\"].map(abbr_dict)\n",
    "\n",
    "    cnt_dict = dict(df[\"배급사명_요약\"].value_counts())\n",
    "    \n",
    "    df_train[\"배급사_빈도\"] = df_train[\"배급사명_요약\"].map(cnt_dict)\n",
    "    df_test[\"배급사_빈도\"] = df_test[\"배급사명_요약\"].map(cnt_dict)\n",
    "    \n",
    "    rank_dict = dict(df_train.groupby([\"배급사명_요약\"])[\"관객수\"].median().rank(ascending = False))\n",
    "    \n",
    "    df_train[\"배급사_관객순위\"] = df_train[\"배급사명_요약\"].map(rank_dict)\n",
    "    df_test[\"배급사_관객순위\"] = df_test[\"배급사명_요약\"].map(rank_dict)\n",
    "    \n",
    "    return df_train, df_test, abbr_dict, cnt_dict, rank_dict\n",
    "\n",
    "df_train, df_test, dstb_abbr_dict,  dstb_cnt_dict,  dstb_rank_dict = preprocessing_dstb(df_train, df_test)"
   ]
  },
  {
   "cell_type": "code",
   "execution_count": 20,
   "id": "b46ca846",
   "metadata": {},
   "outputs": [
    {
     "name": "stdout",
     "output_type": "stream",
     "text": [
      "['롯데' '쇼박스' 'NEW' '백두대' '유니버' '두타연' '케이알' '콘텐츠' '키노아' '팝' 'CJ' '영화제' 'CGV'\n",
      " '리틀빅' '스폰지' '조이앤' '인디플' '인디스' '시네마' '웃기씨' '진진' '레인보' '김기덕' '동국대' 'BoX'\n",
      " '마운틴' '메가박' '골든타' '파이오' '디' '드림팩' '시너지' '디마' '판다미' '스톰픽' '예지림' '조제' '보람'\n",
      " '노바' '패스파' '대명문' '온비즈' 'KT&' '무비꼴' '인벤트' '씨네그' '후크' '나이너' 'THE' '영구아'\n",
      " '어뮤즈' '이모션' '이스트' '필라멘' '타임스' '휘' '이십세' '피터팬' '에스와' '더픽쳐' '오퍼스' '고앤고'\n",
      " '사람과' 'JK필' '씨너스' 'KT' '싸이더' '프레인' '나우콘' '홀리가' '브릿지' '엣나인' '위더스' '에이원'\n",
      " 'OAL' '전망좋' '스토리' '이상우' '씨네굿' '영희야' '찬란' '어썸' '아방가' '스크린' '와이드' 'tvN'\n",
      " '액티버' '제나두' '아이필' '쟈비스' '트리필' '에스피' '건시네' '키노' '아우라' '에이블' '드림로' '인피니'\n",
      " '새인컴' '느림보' '필름라' 'M2픽' '고구마' '미디어' '마노' '화앤담' '스마일' '패뷸러' '조아' '판씨네' '두'\n",
      " '마인스' '전주국' '상구네' '케이엠' '유비네' '한국Y' 'KBS' '더' '위드시' '팜코리' '씨엠닉' 'SBS'\n",
      " '인터콘' '유비콘' '프로젝' '하준사' '노버스' '주머니' '롤러코' 'SK플' '서울독' '블루' '랠리버' '머스트'\n",
      " 'SK텔' '마법사' '로드하' '미라클' '프리비' '廊' '크리에' 'ysf' '이달투' '퍼스트']\n"
     ]
    },
    {
     "data": {
      "text/plain": [
       "145"
      ]
     },
     "execution_count": 20,
     "metadata": {},
     "output_type": "execute_result"
    }
   ],
   "source": [
    "print(df_train[\"배급사명_요약\"].unique()) ## 완벽하진 않지만 어느정도 중복 제거\n",
    "df_train[\"배급사명_요약\"].nunique()"
   ]
  },
  {
   "cell_type": "code",
   "execution_count": 21,
   "id": "8d332e39",
   "metadata": {},
   "outputs": [
    {
     "data": {
      "text/html": [
       "<div>\n",
       "<style scoped>\n",
       "    .dataframe tbody tr th:only-of-type {\n",
       "        vertical-align: middle;\n",
       "    }\n",
       "\n",
       "    .dataframe tbody tr th {\n",
       "        vertical-align: top;\n",
       "    }\n",
       "\n",
       "    .dataframe thead th {\n",
       "        text-align: right;\n",
       "    }\n",
       "</style>\n",
       "<table border=\"1\" class=\"dataframe\">\n",
       "  <thead>\n",
       "    <tr style=\"text-align: right;\">\n",
       "      <th></th>\n",
       "      <th>배급사명_요약</th>\n",
       "      <th>배급사_빈도</th>\n",
       "    </tr>\n",
       "  </thead>\n",
       "  <tbody>\n",
       "    <tr>\n",
       "      <th>0</th>\n",
       "      <td>CJ</td>\n",
       "      <td>92</td>\n",
       "    </tr>\n",
       "    <tr>\n",
       "      <th>1</th>\n",
       "      <td>롯데</td>\n",
       "      <td>76</td>\n",
       "    </tr>\n",
       "    <tr>\n",
       "      <th>2</th>\n",
       "      <td>NEW</td>\n",
       "      <td>48</td>\n",
       "    </tr>\n",
       "    <tr>\n",
       "      <th>3</th>\n",
       "      <td>마운틴</td>\n",
       "      <td>47</td>\n",
       "    </tr>\n",
       "    <tr>\n",
       "      <th>4</th>\n",
       "      <td>쇼박스</td>\n",
       "      <td>42</td>\n",
       "    </tr>\n",
       "    <tr>\n",
       "      <th>...</th>\n",
       "      <td>...</td>\n",
       "      <td>...</td>\n",
       "    </tr>\n",
       "    <tr>\n",
       "      <th>169</th>\n",
       "      <td>아이필</td>\n",
       "      <td>1</td>\n",
       "    </tr>\n",
       "    <tr>\n",
       "      <th>170</th>\n",
       "      <td>tvN</td>\n",
       "      <td>1</td>\n",
       "    </tr>\n",
       "    <tr>\n",
       "      <th>171</th>\n",
       "      <td>스크린</td>\n",
       "      <td>1</td>\n",
       "    </tr>\n",
       "    <tr>\n",
       "      <th>172</th>\n",
       "      <td>아방가</td>\n",
       "      <td>1</td>\n",
       "    </tr>\n",
       "    <tr>\n",
       "      <th>173</th>\n",
       "      <td>씨타마</td>\n",
       "      <td>1</td>\n",
       "    </tr>\n",
       "  </tbody>\n",
       "</table>\n",
       "<p>174 rows × 2 columns</p>\n",
       "</div>"
      ],
      "text/plain": [
       "    배급사명_요약  배급사_빈도\n",
       "0        CJ      92\n",
       "1        롯데      76\n",
       "2       NEW      48\n",
       "3       마운틴      47\n",
       "4       쇼박스      42\n",
       "..      ...     ...\n",
       "169     아이필       1\n",
       "170     tvN       1\n",
       "171     스크린       1\n",
       "172     아방가       1\n",
       "173     씨타마       1\n",
       "\n",
       "[174 rows x 2 columns]"
      ]
     },
     "execution_count": 21,
     "metadata": {},
     "output_type": "execute_result"
    }
   ],
   "source": [
    "dstb_cnt = pd.DataFrame.from_dict(dstb_cnt_dict, orient = \"index\").reset_index()\n",
    "dstb_cnt = dstb_cnt.rename(columns = {\"index\" : \"배급사명_요약\", 0 : \"배급사_빈도\"})\n",
    "dstb_cnt\n",
    "\n",
    "# 이름을 들어본 CJ, 롯데 등 유명 배급사들의 작품 수가 많음"
   ]
  },
  {
   "cell_type": "code",
   "execution_count": 22,
   "id": "261dd93e",
   "metadata": {},
   "outputs": [
    {
     "data": {
      "image/png": "[encoded data removed]",
      "text/plain": [
       "<Figure size 432x288 with 1 Axes>"
      ]
     },
     "metadata": {
      "needs_background": "light"
     },
     "output_type": "display_data"
    }
   ],
   "source": [
    "_=sns.barplot(data = dstb_cnt.nlargest(5, \"배급사_빈도\"), x = \"배급사명_요약\", y = \"배급사_빈도\")"
   ]
  },
  {
   "cell_type": "code",
   "execution_count": 23,
   "id": "a4573ab6",
   "metadata": {},
   "outputs": [
    {
     "data": {
      "text/html": [
       "<div>\n",
       "<style scoped>\n",
       "    .dataframe tbody tr th:only-of-type {\n",
       "        vertical-align: middle;\n",
       "    }\n",
       "\n",
       "    .dataframe tbody tr th {\n",
       "        vertical-align: top;\n",
       "    }\n",
       "\n",
       "    .dataframe thead th {\n",
       "        text-align: right;\n",
       "    }\n",
       "</style>\n",
       "<table border=\"1\" class=\"dataframe\">\n",
       "  <thead>\n",
       "    <tr style=\"text-align: right;\">\n",
       "      <th></th>\n",
       "      <th>배급사명_요약</th>\n",
       "      <th>배급사_관객순위</th>\n",
       "    </tr>\n",
       "  </thead>\n",
       "  <tbody>\n",
       "    <tr>\n",
       "      <th>75</th>\n",
       "      <td>아이필</td>\n",
       "      <td>1.0</td>\n",
       "    </tr>\n",
       "    <tr>\n",
       "      <th>84</th>\n",
       "      <td>영구아</td>\n",
       "      <td>2.0</td>\n",
       "    </tr>\n",
       "    <tr>\n",
       "      <th>60</th>\n",
       "      <td>쇼박스</td>\n",
       "      <td>3.0</td>\n",
       "    </tr>\n",
       "    <tr>\n",
       "      <th>101</th>\n",
       "      <td>이십세</td>\n",
       "      <td>4.0</td>\n",
       "    </tr>\n",
       "    <tr>\n",
       "      <th>11</th>\n",
       "      <td>SK텔</td>\n",
       "      <td>5.0</td>\n",
       "    </tr>\n",
       "  </tbody>\n",
       "</table>\n",
       "</div>"
      ],
      "text/plain": [
       "    배급사명_요약  배급사_관객순위\n",
       "75      아이필       1.0\n",
       "84      영구아       2.0\n",
       "60      쇼박스       3.0\n",
       "101     이십세       4.0\n",
       "11      SK텔       5.0"
      ]
     },
     "execution_count": 23,
     "metadata": {},
     "output_type": "execute_result"
    }
   ],
   "source": [
    "dstb_rank = pd.DataFrame.from_dict(dstb_rank_dict, orient = \"index\").reset_index()\n",
    "dstb_rank = dstb_rank.rename(columns = {\"index\" : \"배급사명_요약\", 0 : \"배급사_관객순위\"})\n",
    "dstb_rank.nsmallest(5, \"배급사_관객순위\")"
   ]
  },
  {
   "cell_type": "code",
   "execution_count": 24,
   "id": "566b408c",
   "metadata": {},
   "outputs": [
    {
     "data": {
      "text/html": [
       "<div>\n",
       "<style scoped>\n",
       "    .dataframe tbody tr th:only-of-type {\n",
       "        vertical-align: middle;\n",
       "    }\n",
       "\n",
       "    .dataframe tbody tr th {\n",
       "        vertical-align: top;\n",
       "    }\n",
       "\n",
       "    .dataframe thead th {\n",
       "        text-align: right;\n",
       "    }\n",
       "</style>\n",
       "<table border=\"1\" class=\"dataframe\">\n",
       "  <thead>\n",
       "    <tr style=\"text-align: right;\">\n",
       "      <th></th>\n",
       "      <th>관객수</th>\n",
       "      <th>배급사_관객순위</th>\n",
       "      <th>배급사_빈도</th>\n",
       "    </tr>\n",
       "  </thead>\n",
       "  <tbody>\n",
       "    <tr>\n",
       "      <th>관객수</th>\n",
       "      <td>1.000000</td>\n",
       "      <td>-0.407518</td>\n",
       "      <td>0.365411</td>\n",
       "    </tr>\n",
       "    <tr>\n",
       "      <th>배급사_관객순위</th>\n",
       "      <td>-0.407518</td>\n",
       "      <td>1.000000</td>\n",
       "      <td>-0.516654</td>\n",
       "    </tr>\n",
       "    <tr>\n",
       "      <th>배급사_빈도</th>\n",
       "      <td>0.365411</td>\n",
       "      <td>-0.516654</td>\n",
       "      <td>1.000000</td>\n",
       "    </tr>\n",
       "  </tbody>\n",
       "</table>\n",
       "</div>"
      ],
      "text/plain": [
       "               관객수  배급사_관객순위    배급사_빈도\n",
       "관객수       1.000000 -0.407518  0.365411\n",
       "배급사_관객순위 -0.407518  1.000000 -0.516654\n",
       "배급사_빈도    0.365411 -0.516654  1.000000"
      ]
     },
     "execution_count": 24,
     "metadata": {},
     "output_type": "execute_result"
    }
   ],
   "source": [
    "df_train[[\"관객수\", \"배급사_관객순위\", \"배급사_빈도\"]].corr() ## 상관의 크기가 어느정도 나옴..."
   ]
  },
  {
   "cell_type": "markdown",
   "id": "eb023cb6",
   "metadata": {},
   "source": [
    "#### 영화제목(지홍)\n",
    "* 영화제목은 그냥 길이로만 분류를..."
   ]
  },
  {
   "cell_type": "code",
   "execution_count": 25,
   "id": "ed0bf06c",
   "metadata": {},
   "outputs": [],
   "source": [
    "df_train[\"제목길이\"] = df_train[\"영화제목\"].str.replace(' ', '').map(len)\n",
    "df_test[\"제목길이\"] = df_test[\"영화제목\"].str.replace(' ', '').map(len)"
   ]
  },
  {
   "cell_type": "code",
   "execution_count": 26,
   "id": "e048a736",
   "metadata": {},
   "outputs": [
    {
     "data": {
      "text/html": [
       "<div>\n",
       "<style scoped>\n",
       "    .dataframe tbody tr th:only-of-type {\n",
       "        vertical-align: middle;\n",
       "    }\n",
       "\n",
       "    .dataframe tbody tr th {\n",
       "        vertical-align: top;\n",
       "    }\n",
       "\n",
       "    .dataframe thead th {\n",
       "        text-align: right;\n",
       "    }\n",
       "</style>\n",
       "<table border=\"1\" class=\"dataframe\">\n",
       "  <thead>\n",
       "    <tr style=\"text-align: right;\">\n",
       "      <th></th>\n",
       "      <th>제목길이</th>\n",
       "      <th>관객수</th>\n",
       "    </tr>\n",
       "  </thead>\n",
       "  <tbody>\n",
       "    <tr>\n",
       "      <th>제목길이</th>\n",
       "      <td>1.000000</td>\n",
       "      <td>-0.087999</td>\n",
       "    </tr>\n",
       "    <tr>\n",
       "      <th>관객수</th>\n",
       "      <td>-0.087999</td>\n",
       "      <td>1.000000</td>\n",
       "    </tr>\n",
       "  </tbody>\n",
       "</table>\n",
       "</div>"
      ],
      "text/plain": [
       "          제목길이       관객수\n",
       "제목길이  1.000000 -0.087999\n",
       "관객수  -0.087999  1.000000"
      ]
     },
     "execution_count": 26,
     "metadata": {},
     "output_type": "execute_result"
    }
   ],
   "source": [
    "df_train[[\"제목길이\", \"관객수\"]].corr() # 별로 상관이 없는듯..."
   ]
  },
  {
   "cell_type": "markdown",
   "id": "6ac153cc",
   "metadata": {},
   "source": [
    "#### 상영시간(세형)"
   ]
  },
  {
   "cell_type": "code",
   "execution_count": 27,
   "id": "cc990532",
   "metadata": {},
   "outputs": [],
   "source": [
    "def preprocessing_mvtype(df_train, df_test):\n",
    "    df = pd.concat([df_train[['영화제목', '상영시간(분)']], df_test[['영화제목', '상영시간(분)']]])\n",
    "    df['영화유형'] = df['상영시간(분)'].copy()\n",
    "\n",
    "    df.loc[(df['상영시간(분)'] < 100),\"영화유형\"] = '단편'\n",
    "    df.loc[(df['상영시간(분)'] >= 100),\"영화유형\"] = '장편'\n",
    "\n",
    "    type_dict = dict(df[['영화제목','영화유형']].values)\n",
    "\n",
    "    df_train['영화유형'] = df_train['영화제목'].map(type_dict)\n",
    "    df_test['영화유형'] = df_test['영화제목'].map(type_dict)\n",
    "\n",
    "    return df_train, df_test\n",
    "\n",
    "df_train, df_test = preprocessing_mvtype(df_train, df_test)"
   ]
  },
  {
   "cell_type": "markdown",
   "id": "1a658265",
   "metadata": {},
   "source": [
    "#### 감독평균관객수(예림)\n"
   ]
  },
  {
   "cell_type": "code",
   "execution_count": 28,
   "id": "6be8d558",
   "metadata": {
    "scrolled": true
   },
   "outputs": [
    {
     "name": "stdout",
     "output_type": "stream",
     "text": [
      "강우석\n",
      "강효진\n",
      "곽경택\n",
      "구혜선\n",
      "김경묵\n",
      "김광식\n",
      "김대승\n",
      "김봉은\n",
      "김상만\n",
      "김상진\n",
      "김상철\n",
      "김성훈\n",
      "김일종\n",
      "김정욱\n",
      "김정환\n",
      "김정훈\n",
      "김종철\n",
      "김진만\n",
      "김진무\n",
      "김진영\n",
      "김태균\n",
      "김한민\n",
      "김호준\n",
      "김홍선\n",
      "김회근\n",
      "남기웅\n",
      "류승완\n",
      "민규동\n",
      "민용근\n",
      "민환기\n",
      "박훈정\n",
      "박흥식\n",
      "방은진\n",
      "방현준\n",
      "백승화\n",
      "변성현\n",
      "봉만대\n",
      "손석\n",
      "신수원\n",
      "신연식\n",
      "신혜성\n",
      "안상훈\n",
      "오멸\n",
      "윤여창\n",
      "윤종빈\n",
      "이광호\n",
      "이상빈\n",
      "이상우\n",
      "이석훈\n",
      "이성규\n",
      "이송희일\n",
      "이수성\n",
      "이숭환\n",
      "이재규\n",
      "이재한\n",
      "이전\n",
      "이정범\n",
      "이준익\n",
      "임상수\n",
      "임순례\n",
      "임흥순\n",
      "장건재\n",
      "장진\n",
      "장철수\n",
      "장훈\n",
      "전규환\n",
      "전화성\n",
      "정지영\n",
      "조범구\n",
      "조성규\n",
      "조성희\n",
      "진광교\n",
      "최승호\n",
      "한동호\n",
      "한지원\n",
      "홍상수\n",
      "황동혁\n",
      "황철민\n",
      "김광식\n",
      "김진무\n",
      "김홍선\n",
      "류승완\n",
      "이상우\n",
      "이정범\n",
      "이준익\n"
     ]
    }
   ],
   "source": [
    "test_pd = df_test[\"감독이름\"].unique().tolist()\n",
    "test_pd.sort()\n",
    "# test_pd\n",
    "\n",
    "train_pd = df_train[\"감독이름\"].unique().tolist()\n",
    "train_pd.sort()\n",
    "# train_pd\n",
    "\n",
    "for test in test_pd:\n",
    "    if test in train_pd:\n",
    "        print(test)\n",
    "\n",
    "df_test[np.isnan(df_test[\"감독평균관객수\"])]\n",
    "\n",
    "# df_test와 df_train의 감독평균..어쩌구 통일\n",
    "# * df_test와 df_train의 \"감독평균관객수\" 에서..\n",
    "#     * 하나라도 NaN 아닌 값 있으면 max값으로 통일\n",
    "#     * 전부 NaN이면 관객수의 평균으로 통일 \n",
    "#            * 관객수 평균은 df_train의 count로? 아니면 합친 값의 count로? \n",
    "#                   * 그냥 train에서 승부 보겠다\n",
    "#            * train에서는 감독평균관객수가 나와있지 않은데 test에는 있다면? \n",
    "#                   * 왜 있지..? test의 값을 train에 넣어주겠습니다..\n",
    "          \n",
    "\n",
    "# ### 감독 이름에 따라 평균 관객수 통일 (하나라도 NaN이 아닌 값이 있으면 그 값의 최대값으로 통일)\n",
    "\n",
    "def pd_atdc(name):\n",
    "    if len(df_train[df_train[\"감독이름\"]==f\"{name}\"][\"감독평균관객수\"]) != 1:\n",
    "        if np.isnan(df_train[df_train[\"감독이름\"]==f\"{name}\"][\"감독평균관객수\"]).all() == False :\n",
    "            df_train.loc[df_train[\"감독이름\"]==f\"{name}\", \"감독평균관객수\"] = max(df_train.loc[df_train[\"감독이름\"]==f\"{name}\"][\"감독평균관객수\"].replace(np.nan, 0))\n",
    "            \n",
    "            \n",
    "\n",
    "pd_name = df_train[\"감독이름\"].unique().tolist()\n",
    "for p in pd_name:\n",
    "    pd_atdc(p)\n",
    "\n",
    "### 감독평균관객수가 train에는 없는데 test에는 있는 경우?\n",
    "\n",
    "# train에서 평균관객수가 nan이 나온 감독이름 list\n",
    "nan_train = df_train[np.isnan(df_train[\"감독평균관객수\"])][\"감독이름\"].unique()\n",
    "nan_train.sort()\n",
    "\n",
    "# test에서 평균관객수가 존재하는 감독이름 list\n",
    "name_test = df_test[~np.isnan(df_test[\"감독평균관객수\"])][\"감독이름\"].unique()\n",
    "name_test.sort()\n",
    "\n",
    "nan_pd = []\n",
    "for name in nan_train:\n",
    "    if name in name_test:\n",
    "        print(name)\n",
    "        nan_pd.append(name)\n",
    "\n",
    "for n in nan_pd:\n",
    "    df_train.loc[df_train[\"감독이름\"]==n,\"감독평균관객수\"] = max(df_test.loc[df_test[\"감독이름\"]==n][\"감독평균관객수\"])        \n",
    "\n",
    "### 전부 NaN일 때 관객수 평균\n",
    "\n",
    "all_nan_pd = df_train[np.isnan(df_train[\"감독평균관객수\"])][\"감독이름\"].unique().tolist()\n",
    "all_nan_pd.sort()\n",
    "\n",
    "for n in all_nan_pd:\n",
    "    df_train.loc[df_train[\"감독이름\"]==n, \"감독평균관객수\"] = df_train.loc[df_train[\"감독이름\"]==n, \"관객수\"].sum() / len(df_train.loc[df_train[\"감독이름\"]==n, \"관객수\"])\n",
    "\n",
    "### test NaN = train 값으로 대치\n",
    "\n",
    "test_nan = df_test.loc[np.isnan(df_test[\"감독평균관객수\"])][\"감독이름\"].unique().tolist()\n",
    "test_nan\n",
    "\n",
    "for n in test_nan:\n",
    "    if n in df_train[\"감독이름\"].tolist():\n",
    "        df_test.loc[df_test[\"감독이름\"]==n, \"감독평균관객수\"] = max(df_train.loc[df_train[\"감독이름\"]==n][\"감독평균관객수\"])\n",
    "\n",
    "df_test.loc[df_test[\"감독이름\"]==test_nan[71], \"감독평균관객수\"]\n",
    "\n",
    "### test의 NaN을 스태프 수로 map \n",
    "\n",
    "# 스태프 수 Q1, Q2, Q3, Q4\n",
    "df_train.loc[df_train[\"스태프수\"]<=17, \"스태프Q\"] = 1\n",
    "df_train.loc[(df_train[\"스태프수\"]<=82.5) & (df_train[\"스태프수\"]>17), \"스태프Q\"] = 2\n",
    "df_train.loc[(df_train[\"스태프수\"]<=264) & (df_train[\"스태프수\"]>82.5), \"스태프Q\"] = 3\n",
    "df_train.loc[df_train[\"스태프수\"]>264, \"스태프Q\"] = 4\n",
    "\n",
    "type_dict = {q : df_train.loc[df_train[\"스태프Q\"]==q][\"감독평균관객수\"].mean() for q in [1, 2, 3, 4]}\n",
    "type_dict\n",
    "\n",
    "df_test.loc[df_test[\"스태프수\"]<=17, \"스태프Q\"] = 1\n",
    "df_test.loc[(df_test[\"스태프수\"]<=82.5) & (df_test[\"스태프수\"]>17), \"스태프Q\"] = 2\n",
    "df_test.loc[(df_test[\"스태프수\"]<=264) & (df_test[\"스태프수\"]>82.5), \"스태프Q\"] = 3\n",
    "df_test.loc[df_test[\"스태프수\"]>264, \"스태프Q\"] = 4\n",
    "\n",
    "nan_pd_map = df_test[np.isnan(df_test[\"감독평균관객수\"])][\"감독이름\"].tolist()\n",
    "\n",
    "for n in nan_pd_map:\n",
    "    df_test.loc[df_test[\"감독이름\"]==n, \"감독평균관객수\"] = df_test['스태프Q'].map(type_dict)\n",
    "\n",
    "del df_train[\"스태프Q\"]\n",
    "del df_test[\"스태프Q\"]"
   ]
  },
  {
   "cell_type": "markdown",
   "id": "7b8da150",
   "metadata": {},
   "source": [
    "#### 스태프수(은지)"
   ]
  },
  {
   "cell_type": "code",
   "execution_count": 29,
   "id": "f30bf8d3",
   "metadata": {},
   "outputs": [],
   "source": [
    "def preprocessing_mvtype(df_train, df_test):\n",
    "    df = pd.concat([df_train[['영화제목', '스태프수']], df_test[['영화제목', '스태프수']]])\n",
    "    df['영화규모'] = df['스태프수'].copy()\n",
    "\n",
    "    df.loc[(df['스태프수'] < 82),\"영화규모\"] = '소규모'\n",
    "    df.loc[(df['스태프수'] >= 82),\"영화규모\"] = '대규모'\n",
    "\n",
    "    type_dict = dict(df[['영화제목','영화규모']].values)\n",
    "\n",
    "    df_train['영화규모'] = df_train['영화제목'].map(type_dict)\n",
    "    df_test['영화규모'] = df_test['영화제목'].map(type_dict)\n",
    "\n",
    "    return df_train, df_test\n",
    "\n",
    "df_train, df_test = preprocessing_mvtype(df_train, df_test)"
   ]
  },
  {
   "cell_type": "markdown",
   "id": "f64fda7b",
   "metadata": {},
   "source": [
    "#### 장르(진혁)"
   ]
  },
  {
   "cell_type": "code",
   "execution_count": 30,
   "id": "5d0016fa",
   "metadata": {},
   "outputs": [],
   "source": [
    "df_train['장르구분'] = df_train['장르']\n",
    "df_test['장르구분'] = df_test['장르']\n",
    "\n",
    "df_train.loc[df_train['장르'].isin(['다큐멘터리', '애니메이션','뮤지컬']), '장르구분'] = '기타'\n",
    "df_test.loc[df_test['장르'].isin(['다큐멘터리', '애니메이션','뮤지컬']), '장르구분'] = '기타'\n",
    "df_train.loc[df_train['장르'].isin(['SF']), '장르구분'] = '액션'\n",
    "df_test.loc[df_test['장르'].isin(['SF']), '장르구분'] = '액션'\n",
    "df_train.loc[df_train['장르'].isin([\"서스펜스\",\"미스터리\", \"느와르\"]), '장르구분'] = '공포'\n",
    "df_test.loc[df_test['장르'].isin([\"서스펜스\",\"미스터리\", \"느와르\"]), '장르구분'] = '공포'"
   ]
  },
  {
   "cell_type": "markdown",
   "id": "b1947e55",
   "metadata": {},
   "source": [
    "#### 개봉일(진혁)"
   ]
  },
  {
   "cell_type": "code",
   "execution_count": 31,
   "id": "f97fe3c9",
   "metadata": {},
   "outputs": [],
   "source": [
    "df_train[\"연도\"] = pd.to_datetime(df_train[\"개봉일\"]).dt.year\n",
    "df_train[\"분기\"] = pd.to_datetime(df_train[\"개봉일\"]).dt.quarter\n",
    "df_train[\"반기\"] = df_train[\"분기\"].map(lambda x : \"상반기\" if x <= 2 else \"후반기\")\n",
    "\n",
    "df_test[\"연도\"] = pd.to_datetime(df_test[\"개봉일\"]).dt.year\n",
    "df_test[\"분기\"] = pd.to_datetime(df_test[\"개봉일\"]).dt.quarter\n",
    "df_test[\"반기\"] = df_train[\"분기\"].map(lambda x : \"상반기\" if x <= 2 else \"후반기\")"
   ]
  },
  {
   "cell_type": "markdown",
   "id": "1d8b93c8",
   "metadata": {},
   "source": [
    "#### 기타 전처리(개인적 시도...)\n",
    "각 관객별 컬럼값의 중앙값으로 순위 계산"
   ]
  },
  {
   "cell_type": "code",
   "execution_count": 32,
   "id": "5377cc8b",
   "metadata": {},
   "outputs": [],
   "source": [
    "### 상영등급에 따른 관객수 순위\n",
    "grade_rank_dict = dict(df_train.groupby([\"상영등급\"])[\"관객수\"].median().rank(ascending = False))\n",
    "df_train[\"상영등급_순위\"] = df_train[\"상영등급\"].map(grade_rank_dict)\n",
    "df_test[\"상영등급_순위\"] = df_test[\"상영등급\"].map(grade_rank_dict)"
   ]
  },
  {
   "cell_type": "code",
   "execution_count": 33,
   "id": "98f39669",
   "metadata": {},
   "outputs": [],
   "source": [
    "### 상영등급에 따른 관객수 순위\n",
    "genre_rank_dict = dict(df_train.groupby(\"장르구분\")[\"관객수\"].median().rank(ascending = False))\n",
    "df_train[\"장르순위\"] = df_train[\"장르구분\"].map(genre_rank_dict)\n",
    "df_test[\"장르순위\"] = df_test[\"장르구분\"].map(genre_rank_dict)"
   ]
  },
  {
   "cell_type": "code",
   "execution_count": 34,
   "id": "d2f19433",
   "metadata": {},
   "outputs": [
    {
     "data": {
      "text/plain": [
       "{'공포': 2.0, '기타': 5.0, '드라마': 4.0, '멜로/로맨스': 6.0, '액션': 1.0, '코미디': 3.0}"
      ]
     },
     "execution_count": 34,
     "metadata": {},
     "output_type": "execute_result"
    }
   ],
   "source": [
    "genre_rank_dict"
   ]
  },
  {
   "cell_type": "code",
   "execution_count": 35,
   "id": "c81694c8",
   "metadata": {},
   "outputs": [],
   "source": [
    "## 개봉시기에 따른 관객수 순위\n",
    "year_rank_dict = dict(df_train.groupby([\"연도\"])[\"관객수\"].median().rank(ascending = False))\n",
    "quart_rank_dict  = dict(df_train.groupby([\"분기\"])[\"관객수\"].median().rank(ascending = False))\n",
    "half_year_rank_dict  = dict(df_train.groupby([\"반기\"])[\"관객수\"].median().rank(ascending = False))\n",
    "\n",
    "df_train[\"연도순위\"] = df_train[\"연도\"].map(year_rank_dict)\n",
    "df_test[\"연도순위\"] = df_test[\"연도\"].map(year_rank_dict)\n",
    "\n",
    "df_train[\"분기순위\"] = df_train[\"분기\"].map(quart_rank_dict)\n",
    "df_test[\"분기순위\"] = df_test[\"분기\"].map(quart_rank_dict)\n",
    "\n",
    "df_train[\"반기순위\"] = df_train[\"반기\"].map(half_year_rank_dict)\n",
    "df_test[\"반기순위\"] = df_test[\"반기\"].map(half_year_rank_dict)"
   ]
  },
  {
   "cell_type": "code",
   "execution_count": 36,
   "id": "9c3e450c",
   "metadata": {},
   "outputs": [],
   "source": [
    "## 영화유형에 따른 관객수 순위\n",
    "film_type_rank_dict  = dict(df_train.groupby([\"영화유형\"])[\"관객수\"].median().rank(ascending = False))\n",
    "df_train[\"영화유형순위\"] = df_train[\"영화유형\"].map(film_type_rank_dict)\n",
    "df_test[\"영화유형순위\"] = df_test[\"영화유형\"].map(film_type_rank_dict)"
   ]
  },
  {
   "cell_type": "code",
   "execution_count": 37,
   "id": "e80bd75b",
   "metadata": {},
   "outputs": [],
   "source": [
    "## 감독참여영화에 따른 관객수 순위\n",
    "piece_cnt_rank_dict  = dict(df_train.groupby([\"감독참여영화\"])[\"관객수\"].median().rank(ascending = False))\n",
    "df_train[\"감독참여영화관객순위\"] = df_train[\"감독참여영화\"].map(piece_cnt_rank_dict)\n",
    "df_test[\"감독참여영화관객순위\"] = df_test[\"감독참여영화\"].map(piece_cnt_rank_dict)"
   ]
  },
  {
   "cell_type": "code",
   "execution_count": 38,
   "id": "0327b9a5",
   "metadata": {},
   "outputs": [],
   "source": [
    "## 영화규모에 따른 관객수 순위\n",
    "size_film_rank_dict  = dict(df_train.groupby([\"영화규모\"])[\"관객수\"].median().rank(ascending = False))\n",
    "df_train[\"영화규모관객순위\"] = df_train[\"영화규모\"].map(size_film_rank_dict)\n",
    "df_test[\"영화규모관객순위\"] = df_test[\"영화규모\"].map(size_film_rank_dict)"
   ]
  },
  {
   "cell_type": "code",
   "execution_count": 39,
   "id": "ad255879",
   "metadata": {},
   "outputs": [
    {
     "data": {
      "text/plain": [
       "영화제목          0\n",
       "배급사           0\n",
       "장르            0\n",
       "개봉일           0\n",
       "상영시간(분)       0\n",
       "상영등급          0\n",
       "감독이름          0\n",
       "감독평균관객수       0\n",
       "감독참여영화        0\n",
       "스태프수          0\n",
       "주연배우수         0\n",
       "관객수           0\n",
       "배급사명_요약       0\n",
       "배급사_빈도        0\n",
       "배급사_관객순위      0\n",
       "제목길이          0\n",
       "영화유형          0\n",
       "영화규모          0\n",
       "장르구분          0\n",
       "연도            0\n",
       "분기            0\n",
       "반기            0\n",
       "상영등급_순위       0\n",
       "장르순위          0\n",
       "연도순위          0\n",
       "분기순위          0\n",
       "반기순위          0\n",
       "영화유형순위        0\n",
       "감독참여영화관객순위    0\n",
       "영화규모관객순위      0\n",
       "dtype: int64"
      ]
     },
     "execution_count": 39,
     "metadata": {},
     "output_type": "execute_result"
    }
   ],
   "source": [
    "df_train.isnull().sum()"
   ]
  },
  {
   "cell_type": "markdown",
   "id": "9d3f0442",
   "metadata": {},
   "source": [
    "#### test set의 잔여 결측치 처리"
   ]
  },
  {
   "cell_type": "code",
   "execution_count": 40,
   "id": "90ac9ecb",
   "metadata": {},
   "outputs": [
    {
     "data": {
      "text/plain": [
       "영화제목           0\n",
       "배급사            0\n",
       "장르             0\n",
       "개봉일            0\n",
       "상영시간(분)        0\n",
       "상영등급           0\n",
       "감독이름           0\n",
       "감독평균관객수        0\n",
       "감독참여영화         0\n",
       "스태프수           0\n",
       "주연배우수          0\n",
       "배급사명_요약        0\n",
       "배급사_빈도         0\n",
       "배급사_관객순위      31\n",
       "제목길이           0\n",
       "영화유형           0\n",
       "영화규모           0\n",
       "장르구분           0\n",
       "연도             0\n",
       "분기             0\n",
       "반기             0\n",
       "상영등급_순위        0\n",
       "장르순위           0\n",
       "연도순위           0\n",
       "분기순위           0\n",
       "반기순위           0\n",
       "영화유형순위         0\n",
       "감독참여영화관객순위     1\n",
       "영화규모관객순위       0\n",
       "dtype: int64"
      ]
     },
     "execution_count": 40,
     "metadata": {},
     "output_type": "execute_result"
    }
   ],
   "source": [
    "df_test.isnull().sum()"
   ]
  },
  {
   "cell_type": "code",
   "execution_count": 41,
   "id": "636508b6",
   "metadata": {},
   "outputs": [],
   "source": [
    "# 각 순위 median으로 채워넣기\n",
    "df_test[\"배급사_관객순위\"] = df_test[\"배급사_관객순위\"].fillna(np.median(np.unique(list(dstb_rank_dict.values()))))\n",
    "df_test[\"감독참여영화관객순위\"] = df_test[\"감독참여영화관객순위\"].fillna(np.median(np.unique(list(piece_cnt_rank_dict.values()))))"
   ]
  },
  {
   "cell_type": "code",
   "execution_count": 42,
   "id": "12333a95",
   "metadata": {},
   "outputs": [
    {
     "data": {
      "text/plain": [
       "0"
      ]
     },
     "execution_count": 42,
     "metadata": {},
     "output_type": "execute_result"
    }
   ],
   "source": [
    "df_test.isnull().sum().sum() ## 결측치 완전 제거!!"
   ]
  },
  {
   "cell_type": "markdown",
   "id": "2935dee6",
   "metadata": {},
   "source": [
    "### 처리후 데이터 특성 확인\n",
    "관객수는 대체로 적은 수쪽으로 편향이 이뤄져 있으며, 관객수가 많은 쪽(흥행한)의 영화 수는 적음."
   ]
  },
  {
   "cell_type": "code",
   "execution_count": 43,
   "id": "c1b943bb",
   "metadata": {
    "scrolled": true
   },
   "outputs": [
    {
     "data": {
      "text/plain": [
       "<AxesSubplot:>"
      ]
     },
     "execution_count": 43,
     "metadata": {},
     "output_type": "execute_result"
    },
    {
     "data": {
      "image/png": "[encoded data removed]",
      "text/plain": [
       "<Figure size 432x288 with 2 Axes>"
      ]
     },
     "metadata": {
      "needs_background": "light"
     },
     "output_type": "display_data"
    }
   ],
   "source": [
    "ax = df_train[\"관객수\"].plot(kind='hist', bins= 50)\n",
    "df_train[\"관객수\"].plot(kind='kde', ax=ax, secondary_y=True)"
   ]
  },
  {
   "cell_type": "code",
   "execution_count": 44,
   "id": "ae6e415b",
   "metadata": {},
   "outputs": [
    {
     "data": {
      "text/plain": [
       "<AxesSubplot:>"
      ]
     },
     "execution_count": 44,
     "metadata": {},
     "output_type": "execute_result"
    },
    {
     "data": {
      "image/png": "[encoded data removed]",
      "text/plain": [
       "<Figure size 432x288 with 2 Axes>"
      ]
     },
     "metadata": {
      "needs_background": "light"
     },
     "output_type": "display_data"
    }
   ],
   "source": [
    "ax = df_train.loc[df_train[\"관객수\"] < 10000, \"관객수\"].plot.hist(bins = 50)\n",
    "df_train.loc[df_train[\"관객수\"] < 10000, \"관객수\"].plot(kind='kde', ax=ax, secondary_y=True)"
   ]
  },
  {
   "cell_type": "code",
   "execution_count": 45,
   "id": "2429ac16",
   "metadata": {},
   "outputs": [
    {
     "data": {
      "text/plain": [
       "<AxesSubplot:>"
      ]
     },
     "execution_count": 45,
     "metadata": {},
     "output_type": "execute_result"
    },
    {
     "data": {
      "image/png": "[encoded data removed]",
      "text/plain": [
       "<Figure size 864x432 with 2 Axes>"
      ]
     },
     "metadata": {
      "needs_background": "light"
     },
     "output_type": "display_data"
    }
   ],
   "source": [
    "## 관객수와 각 feature 들간의 상관을 봄\n",
    "plt.figure(figsize = (12,6))\n",
    "corr_features = df_train.corr(method = \"pearson\")\n",
    "sns.heatmap(corr_features[[\"관객수\"]].transpose(), annot= True, cmap = \"RdBu_r\", vmax = 1, vmin = -1, )"
   ]
  },
  {
   "cell_type": "code",
   "execution_count": 46,
   "id": "cd79b13e",
   "metadata": {},
   "outputs": [
    {
     "name": "stdout",
     "output_type": "stream",
     "text": [
      "감독평균관객수       0.573019\n",
      "스태프수          0.544265\n",
      "상영시간(분)       0.441452\n",
      "배급사_빈도        0.365411\n",
      "감독참여영화        0.259674\n",
      "상영등급_순위      -0.217651\n",
      "장르순위         -0.243887\n",
      "감독참여영화관객순위   -0.263840\n",
      "영화규모관객순위     -0.328288\n",
      "영화유형순위       -0.348903\n",
      "배급사_관객순위     -0.407518\n",
      "Name: 관객수, dtype: float64\n"
     ]
    },
    {
     "data": {
      "text/plain": [
       "11"
      ]
     },
     "execution_count": 46,
     "metadata": {},
     "output_type": "execute_result"
    }
   ],
   "source": [
    "## 관객수와 상관이 0.2를 넘는 feature들만 추출\n",
    "high_corr = corr_features.loc[abs(corr_features[\"관객수\"]) > 0.2, \"관객수\"].sort_values(ascending = False)\n",
    "del high_corr[\"관객수\"]\n",
    "print(high_corr)\n",
    "testable_features = high_corr.index.tolist()\n",
    "len(testable_features)"
   ]
  },
  {
   "cell_type": "markdown",
   "id": "1ff122c5",
   "metadata": {},
   "source": [
    "각 feature와 관객수 간의 관계를 plotting"
   ]
  },
  {
   "cell_type": "code",
   "execution_count": 47,
   "id": "f944e1f2",
   "metadata": {
    "scrolled": false
   },
   "outputs": [
    {
     "data": {
      "image/png": "[encoded data removed]",
      "text/plain": [
       "<Figure size 1080x2160 with 12 Axes>"
      ]
     },
     "metadata": {
      "needs_background": "light"
     },
     "output_type": "display_data"
    }
   ],
   "source": [
    "fig = plt.figure(figsize= (15, 30))\n",
    "axes = fig.subplots(len(testable_features)//2 + len(testable_features)%2, 2)\n",
    "for idx, f in enumerate(testable_features):\n",
    "    sns.regplot(data = df_train, x = f, y = \"관객수\", x_estimator= np.mean, ci = None, ax = axes[idx//2, idx%2])"
   ]
  },
  {
   "cell_type": "markdown",
   "id": "d781cb40",
   "metadata": {},
   "source": [
    "* \"감독평균관객수\", \"스태프수\" , \"상영시간(분)\", \"배급사_관객순위\" 의 경우 관객수가 exponential한 변화를 보이므로, log로 변환해봄"
   ]
  },
  {
   "cell_type": "code",
   "execution_count": 48,
   "id": "11cc7564",
   "metadata": {},
   "outputs": [],
   "source": [
    "to_log_cols = [\"감독평균관객수\", \"스태프수\" , \"상영시간(분)\", \"배급사_관객순위\"]\n",
    "log_names = list(map(lambda x: 'log_' + x, to_log_cols))\n",
    "df_train[log_names] = np.log1p(df_train[to_log_cols])\n",
    "df_test[log_names] = np.log1p(df_test[to_log_cols])\n",
    "\n",
    "testable_features.extend(log_names)"
   ]
  },
  {
   "cell_type": "markdown",
   "id": "ef69c416",
   "metadata": {},
   "source": [
    "* 변환후 조금 더 선형관계로 바뀜"
   ]
  },
  {
   "cell_type": "code",
   "execution_count": 49,
   "id": "c1674a1d",
   "metadata": {},
   "outputs": [
    {
     "data": {
      "image/png": "[encoded data removed]",
      "text/plain": [
       "<Figure size 1080x2160 with 16 Axes>"
      ]
     },
     "metadata": {
      "needs_background": "light"
     },
     "output_type": "display_data"
    }
   ],
   "source": [
    "fig = plt.figure(figsize= (15, 30))\n",
    "axes = fig.subplots(len(testable_features)//2 + len(testable_features)%2, 2)\n",
    "for idx, f in enumerate(testable_features):\n",
    "    sns.regplot(data = df_train, x = f, y = \"관객수\", x_estimator= np.mean, ci = None, ax = axes[idx//2, idx%2])"
   ]
  },
  {
   "cell_type": "markdown",
   "id": "77a09d6c",
   "metadata": {},
   "source": [
    "## 모델 만들기"
   ]
  },
  {
   "cell_type": "code",
   "execution_count": 50,
   "id": "ceff7104",
   "metadata": {},
   "outputs": [],
   "source": [
    "label_name = '관객수'"
   ]
  },
  {
   "cell_type": "code",
   "execution_count": 51,
   "id": "ef5d89ab",
   "metadata": {},
   "outputs": [
    {
     "data": {
      "text/plain": [
       "['배급사_빈도',\n",
       " '감독참여영화',\n",
       " '상영등급_순위',\n",
       " '장르순위',\n",
       " '감독참여영화관객순위',\n",
       " '영화규모관객순위',\n",
       " '영화유형순위',\n",
       " 'log_감독평균관객수',\n",
       " 'log_스태프수',\n",
       " 'log_상영시간(분)',\n",
       " 'log_배급사_관객순위']"
      ]
     },
     "execution_count": 51,
     "metadata": {},
     "output_type": "execute_result"
    }
   ],
   "source": [
    "feature_names  = testable_features ## 상관이 높았던 변수들만 사용\n",
    "[testable_features.remove(x) for x in to_log_cols]\n",
    "feature_names"
   ]
  },
  {
   "cell_type": "code",
   "execution_count": 52,
   "id": "76522c75",
   "metadata": {},
   "outputs": [],
   "source": [
    "X_train = df_train[feature_names]\n",
    "y_train = df_train[label_name]\n",
    "X_test = df_test[feature_names]"
   ]
  },
  {
   "cell_type": "markdown",
   "id": "06ad1f36",
   "metadata": {},
   "source": [
    "* DecisionTreeRegressor 모델 사용"
   ]
  },
  {
   "cell_type": "code",
   "execution_count": 53,
   "id": "edc62396",
   "metadata": {},
   "outputs": [],
   "source": [
    "from sklearn.tree import DecisionTreeRegressor\n",
    "model = DecisionTreeRegressor(random_state= 42, max_depth= None, max_features = None)"
   ]
  },
  {
   "cell_type": "markdown",
   "id": "5069d430",
   "metadata": {},
   "source": [
    "### RandomSearch를 활용해 모델 하이퍼파라미터 최적화"
   ]
  },
  {
   "cell_type": "code",
   "execution_count": 54,
   "id": "0be1babe",
   "metadata": {},
   "outputs": [
    {
     "name": "stdout",
     "output_type": "stream",
     "text": [
      "max_depth_list:  [20 22 24 26 28 30 32 34 36 38 41 43 45 47 49 51 53 55 57 60]\n",
      "max_features_list:  [0.1        0.14736842 0.19473684 0.24210526 0.28947368 0.33684211\n",
      " 0.38421053 0.43157895 0.47894737 0.52631579 0.57368421 0.62105263\n",
      " 0.66842105 0.71578947 0.76315789 0.81052632 0.85789474 0.90526316\n",
      " 0.95263158 1.        ]\n"
     ]
    }
   ],
   "source": [
    "max_depth_list = np.linspace(20, 60, 20, dtype= 'int')\n",
    "print(\"max_depth_list: \",max_depth_list)\n",
    "max_features_list = np.linspace(0.1, 1, 20)\n",
    "print(\"max_features_list: \", max_features_list)"
   ]
  },
  {
   "cell_type": "code",
   "execution_count": 55,
   "id": "a458adb5",
   "metadata": {},
   "outputs": [
    {
     "data": {
      "text/plain": [
       "RandomizedSearchCV(cv=10, estimator=DecisionTreeRegressor(random_state=42),\n",
       "                   n_jobs=-1,\n",
       "                   param_distributions={'max_depth': array([20, 22, 24, 26, 28, 30, 32, 34, 36, 38, 41, 43, 45, 47, 49, 51, 53,\n",
       "       55, 57, 60]),\n",
       "                                        'max_features': array([0.1       , 0.14736842, 0.19473684, 0.24210526, 0.28947368,\n",
       "       0.33684211, 0.38421053, 0.43157895, 0.47894737, 0.52631579,\n",
       "       0.57368421, 0.62105263, 0.66842105, 0.71578947, 0.76315789,\n",
       "       0.81052632, 0.85789474, 0.90526316, 0.95263158, 1.        ])},\n",
       "                   random_state=42, scoring='neg_mean_squared_error')"
      ]
     },
     "execution_count": 55,
     "metadata": {},
     "output_type": "execute_result"
    }
   ],
   "source": [
    "from sklearn.model_selection import RandomizedSearchCV\n",
    "parameters = {'max_depth' : max_depth_list, 'max_features' : max_features_list}\n",
    "clf = RandomizedSearchCV(model, param_distributions= parameters, n_iter = 10, scoring = 'neg_mean_squared_error', n_jobs = -1, cv = 10, random_state = 42)\n",
    "clf.fit(X_train, y_train)"
   ]
  },
  {
   "cell_type": "code",
   "execution_count": 56,
   "id": "cd9d230f",
   "metadata": {
    "scrolled": false
   },
   "outputs": [
    {
     "data": {
      "text/html": [
       "<div>\n",
       "<style scoped>\n",
       "    .dataframe tbody tr th:only-of-type {\n",
       "        vertical-align: middle;\n",
       "    }\n",
       "\n",
       "    .dataframe tbody tr th {\n",
       "        vertical-align: top;\n",
       "    }\n",
       "\n",
       "    .dataframe thead th {\n",
       "        text-align: right;\n",
       "    }\n",
       "</style>\n",
       "<table border=\"1\" class=\"dataframe\">\n",
       "  <thead>\n",
       "    <tr style=\"text-align: right;\">\n",
       "      <th></th>\n",
       "      <th>mean_fit_time</th>\n",
       "      <th>std_fit_time</th>\n",
       "      <th>mean_score_time</th>\n",
       "      <th>std_score_time</th>\n",
       "      <th>param_max_features</th>\n",
       "      <th>param_max_depth</th>\n",
       "      <th>params</th>\n",
       "      <th>split0_test_score</th>\n",
       "      <th>split1_test_score</th>\n",
       "      <th>split2_test_score</th>\n",
       "      <th>split3_test_score</th>\n",
       "      <th>split4_test_score</th>\n",
       "      <th>split5_test_score</th>\n",
       "      <th>split6_test_score</th>\n",
       "      <th>split7_test_score</th>\n",
       "      <th>split8_test_score</th>\n",
       "      <th>split9_test_score</th>\n",
       "      <th>mean_test_score</th>\n",
       "      <th>std_test_score</th>\n",
       "      <th>rank_test_score</th>\n",
       "    </tr>\n",
       "  </thead>\n",
       "  <tbody>\n",
       "    <tr>\n",
       "      <th>5</th>\n",
       "      <td>0.005663</td>\n",
       "      <td>0.000362</td>\n",
       "      <td>0.003056</td>\n",
       "      <td>0.000249</td>\n",
       "      <td>0.289474</td>\n",
       "      <td>28</td>\n",
       "      <td>{'max_features': 0.2894736842105263, 'max_dept...</td>\n",
       "      <td>-1.437788e+12</td>\n",
       "      <td>-2.551923e+12</td>\n",
       "      <td>-1.543894e+12</td>\n",
       "      <td>-4.034227e+12</td>\n",
       "      <td>-1.038645e+12</td>\n",
       "      <td>-1.719912e+12</td>\n",
       "      <td>-1.968552e+12</td>\n",
       "      <td>-6.291975e+12</td>\n",
       "      <td>-5.769028e+12</td>\n",
       "      <td>-1.441543e+12</td>\n",
       "      <td>-2.779749e+12</td>\n",
       "      <td>1.811874e+12</td>\n",
       "      <td>1</td>\n",
       "    </tr>\n",
       "    <tr>\n",
       "      <th>8</th>\n",
       "      <td>0.003638</td>\n",
       "      <td>0.000270</td>\n",
       "      <td>0.001684</td>\n",
       "      <td>0.000160</td>\n",
       "      <td>0.384211</td>\n",
       "      <td>47</td>\n",
       "      <td>{'max_features': 0.38421052631578945, 'max_dep...</td>\n",
       "      <td>-2.072177e+12</td>\n",
       "      <td>-3.283248e+12</td>\n",
       "      <td>-4.275225e+12</td>\n",
       "      <td>-2.818948e+12</td>\n",
       "      <td>-8.533625e+11</td>\n",
       "      <td>-1.808347e+12</td>\n",
       "      <td>-1.401025e+12</td>\n",
       "      <td>-3.916954e+12</td>\n",
       "      <td>-3.457040e+12</td>\n",
       "      <td>-4.774682e+12</td>\n",
       "      <td>-2.866101e+12</td>\n",
       "      <td>1.233076e+12</td>\n",
       "      <td>2</td>\n",
       "    </tr>\n",
       "    <tr>\n",
       "      <th>9</th>\n",
       "      <td>0.004383</td>\n",
       "      <td>0.000574</td>\n",
       "      <td>0.001996</td>\n",
       "      <td>0.000393</td>\n",
       "      <td>0.384211</td>\n",
       "      <td>32</td>\n",
       "      <td>{'max_features': 0.38421052631578945, 'max_dep...</td>\n",
       "      <td>-2.072177e+12</td>\n",
       "      <td>-3.283248e+12</td>\n",
       "      <td>-4.275225e+12</td>\n",
       "      <td>-2.818948e+12</td>\n",
       "      <td>-8.533625e+11</td>\n",
       "      <td>-1.808347e+12</td>\n",
       "      <td>-1.401025e+12</td>\n",
       "      <td>-3.916954e+12</td>\n",
       "      <td>-3.457040e+12</td>\n",
       "      <td>-4.774682e+12</td>\n",
       "      <td>-2.866101e+12</td>\n",
       "      <td>1.233076e+12</td>\n",
       "      <td>2</td>\n",
       "    </tr>\n",
       "    <tr>\n",
       "      <th>7</th>\n",
       "      <td>0.005604</td>\n",
       "      <td>0.000638</td>\n",
       "      <td>0.002124</td>\n",
       "      <td>0.000402</td>\n",
       "      <td>0.763158</td>\n",
       "      <td>28</td>\n",
       "      <td>{'max_features': 0.7631578947368421, 'max_dept...</td>\n",
       "      <td>-1.549474e+12</td>\n",
       "      <td>-3.499520e+12</td>\n",
       "      <td>-1.526507e+12</td>\n",
       "      <td>-3.121260e+12</td>\n",
       "      <td>-1.043302e+12</td>\n",
       "      <td>-3.169894e+12</td>\n",
       "      <td>-8.275584e+12</td>\n",
       "      <td>-5.865777e+12</td>\n",
       "      <td>-5.348673e+12</td>\n",
       "      <td>-1.115318e+12</td>\n",
       "      <td>-3.451531e+12</td>\n",
       "      <td>2.268720e+12</td>\n",
       "      <td>4</td>\n",
       "    </tr>\n",
       "    <tr>\n",
       "      <th>3</th>\n",
       "      <td>0.007011</td>\n",
       "      <td>0.000478</td>\n",
       "      <td>0.003516</td>\n",
       "      <td>0.001211</td>\n",
       "      <td>0.573684</td>\n",
       "      <td>41</td>\n",
       "      <td>{'max_features': 0.5736842105263158, 'max_dept...</td>\n",
       "      <td>-1.893874e+12</td>\n",
       "      <td>-3.121015e+12</td>\n",
       "      <td>-1.892275e+12</td>\n",
       "      <td>-3.711715e+12</td>\n",
       "      <td>-9.669409e+11</td>\n",
       "      <td>-5.377309e+12</td>\n",
       "      <td>-3.212682e+12</td>\n",
       "      <td>-9.061439e+12</td>\n",
       "      <td>-4.342406e+12</td>\n",
       "      <td>-1.399190e+12</td>\n",
       "      <td>-3.497885e+12</td>\n",
       "      <td>2.267790e+12</td>\n",
       "      <td>5</td>\n",
       "    </tr>\n",
       "  </tbody>\n",
       "</table>\n",
       "</div>"
      ],
      "text/plain": [
       "   mean_fit_time  std_fit_time  mean_score_time  std_score_time  \\\n",
       "5       0.005663      0.000362         0.003056        0.000249   \n",
       "8       0.003638      0.000270         0.001684        0.000160   \n",
       "9       0.004383      0.000574         0.001996        0.000393   \n",
       "7       0.005604      0.000638         0.002124        0.000402   \n",
       "3       0.007011      0.000478         0.003516        0.001211   \n",
       "\n",
       "  param_max_features param_max_depth  \\\n",
       "5           0.289474              28   \n",
       "8           0.384211              47   \n",
       "9           0.384211              32   \n",
       "7           0.763158              28   \n",
       "3           0.573684              41   \n",
       "\n",
       "                                              params  split0_test_score  \\\n",
       "5  {'max_features': 0.2894736842105263, 'max_dept...      -1.437788e+12   \n",
       "8  {'max_features': 0.38421052631578945, 'max_dep...      -2.072177e+12   \n",
       "9  {'max_features': 0.38421052631578945, 'max_dep...      -2.072177e+12   \n",
       "7  {'max_features': 0.7631578947368421, 'max_dept...      -1.549474e+12   \n",
       "3  {'max_features': 0.5736842105263158, 'max_dept...      -1.893874e+12   \n",
       "\n",
       "   split1_test_score  split2_test_score  split3_test_score  split4_test_score  \\\n",
       "5      -2.551923e+12      -1.543894e+12      -4.034227e+12      -1.038645e+12   \n",
       "8      -3.283248e+12      -4.275225e+12      -2.818948e+12      -8.533625e+11   \n",
       "9      -3.283248e+12      -4.275225e+12      -2.818948e+12      -8.533625e+11   \n",
       "7      -3.499520e+12      -1.526507e+12      -3.121260e+12      -1.043302e+12   \n",
       "3      -3.121015e+12      -1.892275e+12      -3.711715e+12      -9.669409e+11   \n",
       "\n",
       "   split5_test_score  split6_test_score  split7_test_score  split8_test_score  \\\n",
       "5      -1.719912e+12      -1.968552e+12      -6.291975e+12      -5.769028e+12   \n",
       "8      -1.808347e+12      -1.401025e+12      -3.916954e+12      -3.457040e+12   \n",
       "9      -1.808347e+12      -1.401025e+12      -3.916954e+12      -3.457040e+12   \n",
       "7      -3.169894e+12      -8.275584e+12      -5.865777e+12      -5.348673e+12   \n",
       "3      -5.377309e+12      -3.212682e+12      -9.061439e+12      -4.342406e+12   \n",
       "\n",
       "   split9_test_score  mean_test_score  std_test_score  rank_test_score  \n",
       "5      -1.441543e+12    -2.779749e+12    1.811874e+12                1  \n",
       "8      -4.774682e+12    -2.866101e+12    1.233076e+12                2  \n",
       "9      -4.774682e+12    -2.866101e+12    1.233076e+12                2  \n",
       "7      -1.115318e+12    -3.451531e+12    2.268720e+12                4  \n",
       "3      -1.399190e+12    -3.497885e+12    2.267790e+12                5  "
      ]
     },
     "execution_count": 56,
     "metadata": {},
     "output_type": "execute_result"
    }
   ],
   "source": [
    "pd.DataFrame(clf.cv_results_).sort_values(\"rank_test_score\").head()"
   ]
  },
  {
   "cell_type": "code",
   "execution_count": 57,
   "id": "f41e5b9f",
   "metadata": {},
   "outputs": [
    {
     "data": {
      "text/plain": [
       "2779748654859.202"
      ]
     },
     "execution_count": 57,
     "metadata": {},
     "output_type": "execute_result"
    }
   ],
   "source": [
    "-clf.best_score_ # 최고점수 rmse = -(neg_rmse)"
   ]
  },
  {
   "cell_type": "code",
   "execution_count": 58,
   "id": "9e18d7a7",
   "metadata": {},
   "outputs": [
    {
     "data": {
      "text/plain": [
       "DecisionTreeRegressor(max_depth=28, max_features=0.2894736842105263,\n",
       "                      random_state=42)"
      ]
     },
     "execution_count": 58,
     "metadata": {},
     "output_type": "execute_result"
    }
   ],
   "source": [
    "clf.best_estimator_ # tree depth가 28이고 feature를 0.29를 사용했을 때 모델이 좋음"
   ]
  },
  {
   "cell_type": "markdown",
   "id": "216451dd",
   "metadata": {},
   "source": [
    "* best model의 fit을 확인"
   ]
  },
  {
   "cell_type": "code",
   "execution_count": 59,
   "id": "f85a1031",
   "metadata": {
    "id": "qS2UVZy6yzf5"
   },
   "outputs": [],
   "source": [
    "best_model = clf.best_estimator_\n",
    "# best_model.fit(X_train, y_train)"
   ]
  },
  {
   "cell_type": "code",
   "execution_count": 60,
   "id": "60639cd3",
   "metadata": {},
   "outputs": [
    {
     "data": {
      "text/html": [
       "<div>\n",
       "<style scoped>\n",
       "    .dataframe tbody tr th:only-of-type {\n",
       "        vertical-align: middle;\n",
       "    }\n",
       "\n",
       "    .dataframe tbody tr th {\n",
       "        vertical-align: top;\n",
       "    }\n",
       "\n",
       "    .dataframe thead th {\n",
       "        text-align: right;\n",
       "    }\n",
       "</style>\n",
       "<table border=\"1\" class=\"dataframe\">\n",
       "  <thead>\n",
       "    <tr style=\"text-align: right;\">\n",
       "      <th></th>\n",
       "      <th>배급사_빈도</th>\n",
       "      <th>감독참여영화</th>\n",
       "      <th>상영등급_순위</th>\n",
       "      <th>장르순위</th>\n",
       "      <th>감독참여영화관객순위</th>\n",
       "      <th>영화규모관객순위</th>\n",
       "      <th>영화유형순위</th>\n",
       "      <th>log_감독평균관객수</th>\n",
       "      <th>log_스태프수</th>\n",
       "      <th>log_상영시간(분)</th>\n",
       "      <th>log_배급사_관객순위</th>\n",
       "      <th>관객수</th>\n",
       "      <th>모델예측</th>\n",
       "    </tr>\n",
       "  </thead>\n",
       "  <tbody>\n",
       "    <tr>\n",
       "      <th>0</th>\n",
       "      <td>76</td>\n",
       "      <td>0</td>\n",
       "      <td>4.0</td>\n",
       "      <td>1.0</td>\n",
       "      <td>6.0</td>\n",
       "      <td>1.0</td>\n",
       "      <td>2.0</td>\n",
       "      <td>10.060449</td>\n",
       "      <td>4.521789</td>\n",
       "      <td>4.574711</td>\n",
       "      <td>2.708050</td>\n",
       "      <td>23398</td>\n",
       "      <td>23398.0</td>\n",
       "    </tr>\n",
       "    <tr>\n",
       "      <th>1</th>\n",
       "      <td>42</td>\n",
       "      <td>2</td>\n",
       "      <td>4.0</td>\n",
       "      <td>2.0</td>\n",
       "      <td>4.0</td>\n",
       "      <td>1.0</td>\n",
       "      <td>1.0</td>\n",
       "      <td>14.957151</td>\n",
       "      <td>5.961005</td>\n",
       "      <td>4.875197</td>\n",
       "      <td>1.386294</td>\n",
       "      <td>7072501</td>\n",
       "      <td>7072501.0</td>\n",
       "    </tr>\n",
       "    <tr>\n",
       "      <th>2</th>\n",
       "      <td>42</td>\n",
       "      <td>4</td>\n",
       "      <td>1.0</td>\n",
       "      <td>1.0</td>\n",
       "      <td>1.0</td>\n",
       "      <td>1.0</td>\n",
       "      <td>1.0</td>\n",
       "      <td>12.304905</td>\n",
       "      <td>5.840642</td>\n",
       "      <td>4.820282</td>\n",
       "      <td>1.386294</td>\n",
       "      <td>6959083</td>\n",
       "      <td>6959083.0</td>\n",
       "    </tr>\n",
       "    <tr>\n",
       "      <th>3</th>\n",
       "      <td>48</td>\n",
       "      <td>2</td>\n",
       "      <td>3.0</td>\n",
       "      <td>3.0</td>\n",
       "      <td>4.0</td>\n",
       "      <td>2.0</td>\n",
       "      <td>1.0</td>\n",
       "      <td>10.081425</td>\n",
       "      <td>3.044522</td>\n",
       "      <td>4.624973</td>\n",
       "      <td>2.302585</td>\n",
       "      <td>217866</td>\n",
       "      <td>217866.0</td>\n",
       "    </tr>\n",
       "    <tr>\n",
       "      <th>4</th>\n",
       "      <td>42</td>\n",
       "      <td>1</td>\n",
       "      <td>1.0</td>\n",
       "      <td>3.0</td>\n",
       "      <td>5.0</td>\n",
       "      <td>1.0</td>\n",
       "      <td>1.0</td>\n",
       "      <td>0.693147</td>\n",
       "      <td>5.529429</td>\n",
       "      <td>4.691348</td>\n",
       "      <td>1.386294</td>\n",
       "      <td>483387</td>\n",
       "      <td>483387.0</td>\n",
       "    </tr>\n",
       "    <tr>\n",
       "      <th>...</th>\n",
       "      <td>...</td>\n",
       "      <td>...</td>\n",
       "      <td>...</td>\n",
       "      <td>...</td>\n",
       "      <td>...</td>\n",
       "      <td>...</td>\n",
       "      <td>...</td>\n",
       "      <td>...</td>\n",
       "      <td>...</td>\n",
       "      <td>...</td>\n",
       "      <td>...</td>\n",
       "      <td>...</td>\n",
       "      <td>...</td>\n",
       "    </tr>\n",
       "    <tr>\n",
       "      <th>595</th>\n",
       "      <td>48</td>\n",
       "      <td>1</td>\n",
       "      <td>4.0</td>\n",
       "      <td>4.0</td>\n",
       "      <td>5.0</td>\n",
       "      <td>1.0</td>\n",
       "      <td>1.0</td>\n",
       "      <td>8.251664</td>\n",
       "      <td>6.236370</td>\n",
       "      <td>4.718499</td>\n",
       "      <td>2.302585</td>\n",
       "      <td>1475091</td>\n",
       "      <td>1475091.0</td>\n",
       "    </tr>\n",
       "    <tr>\n",
       "      <th>596</th>\n",
       "      <td>42</td>\n",
       "      <td>1</td>\n",
       "      <td>1.0</td>\n",
       "      <td>4.0</td>\n",
       "      <td>5.0</td>\n",
       "      <td>1.0</td>\n",
       "      <td>1.0</td>\n",
       "      <td>13.114456</td>\n",
       "      <td>5.659482</td>\n",
       "      <td>4.852030</td>\n",
       "      <td>1.386294</td>\n",
       "      <td>1716438</td>\n",
       "      <td>1716438.0</td>\n",
       "    </tr>\n",
       "    <tr>\n",
       "      <th>597</th>\n",
       "      <td>47</td>\n",
       "      <td>0</td>\n",
       "      <td>4.0</td>\n",
       "      <td>2.0</td>\n",
       "      <td>6.0</td>\n",
       "      <td>1.0</td>\n",
       "      <td>2.0</td>\n",
       "      <td>7.814400</td>\n",
       "      <td>4.820282</td>\n",
       "      <td>4.605170</td>\n",
       "      <td>4.634729</td>\n",
       "      <td>2475</td>\n",
       "      <td>2475.0</td>\n",
       "    </tr>\n",
       "    <tr>\n",
       "      <th>598</th>\n",
       "      <td>92</td>\n",
       "      <td>0</td>\n",
       "      <td>1.0</td>\n",
       "      <td>2.0</td>\n",
       "      <td>6.0</td>\n",
       "      <td>1.0</td>\n",
       "      <td>1.0</td>\n",
       "      <td>14.600565</td>\n",
       "      <td>6.068426</td>\n",
       "      <td>4.634729</td>\n",
       "      <td>2.197225</td>\n",
       "      <td>2192525</td>\n",
       "      <td>2192525.0</td>\n",
       "    </tr>\n",
       "    <tr>\n",
       "      <th>599</th>\n",
       "      <td>92</td>\n",
       "      <td>0</td>\n",
       "      <td>1.0</td>\n",
       "      <td>1.0</td>\n",
       "      <td>6.0</td>\n",
       "      <td>1.0</td>\n",
       "      <td>1.0</td>\n",
       "      <td>11.487300</td>\n",
       "      <td>5.897154</td>\n",
       "      <td>4.795791</td>\n",
       "      <td>2.197225</td>\n",
       "      <td>7166532</td>\n",
       "      <td>7166532.0</td>\n",
       "    </tr>\n",
       "  </tbody>\n",
       "</table>\n",
       "<p>600 rows × 13 columns</p>\n",
       "</div>"
      ],
      "text/plain": [
       "     배급사_빈도  감독참여영화  상영등급_순위  장르순위  감독참여영화관객순위  영화규모관객순위  영화유형순위  log_감독평균관객수  \\\n",
       "0        76       0      4.0   1.0         6.0       1.0     2.0    10.060449   \n",
       "1        42       2      4.0   2.0         4.0       1.0     1.0    14.957151   \n",
       "2        42       4      1.0   1.0         1.0       1.0     1.0    12.304905   \n",
       "3        48       2      3.0   3.0         4.0       2.0     1.0    10.081425   \n",
       "4        42       1      1.0   3.0         5.0       1.0     1.0     0.693147   \n",
       "..      ...     ...      ...   ...         ...       ...     ...          ...   \n",
       "595      48       1      4.0   4.0         5.0       1.0     1.0     8.251664   \n",
       "596      42       1      1.0   4.0         5.0       1.0     1.0    13.114456   \n",
       "597      47       0      4.0   2.0         6.0       1.0     2.0     7.814400   \n",
       "598      92       0      1.0   2.0         6.0       1.0     1.0    14.600565   \n",
       "599      92       0      1.0   1.0         6.0       1.0     1.0    11.487300   \n",
       "\n",
       "     log_스태프수  log_상영시간(분)  log_배급사_관객순위      관객수       모델예측  \n",
       "0    4.521789     4.574711      2.708050    23398    23398.0  \n",
       "1    5.961005     4.875197      1.386294  7072501  7072501.0  \n",
       "2    5.840642     4.820282      1.386294  6959083  6959083.0  \n",
       "3    3.044522     4.624973      2.302585   217866   217866.0  \n",
       "4    5.529429     4.691348      1.386294   483387   483387.0  \n",
       "..        ...          ...           ...      ...        ...  \n",
       "595  6.236370     4.718499      2.302585  1475091  1475091.0  \n",
       "596  5.659482     4.852030      1.386294  1716438  1716438.0  \n",
       "597  4.820282     4.605170      4.634729     2475     2475.0  \n",
       "598  6.068426     4.634729      2.197225  2192525  2192525.0  \n",
       "599  5.897154     4.795791      2.197225  7166532  7166532.0  \n",
       "\n",
       "[600 rows x 13 columns]"
      ]
     },
     "execution_count": 60,
     "metadata": {},
     "output_type": "execute_result"
    }
   ],
   "source": [
    "fitted_df = df_train[feature_names].copy()\n",
    "fitted_df[label_name] = y_train\n",
    "fitted_df[\"모델예측\"] = best_model.predict(X_train)\n",
    "\n",
    "fitted_df = fitted_df[feature_names + [label_name, \"모델예측\"]]\n",
    "fitted_df"
   ]
  },
  {
   "cell_type": "markdown",
   "id": "2043d181",
   "metadata": {},
   "source": [
    "* 좀 overfit된 것 같다..."
   ]
  },
  {
   "cell_type": "code",
   "execution_count": 61,
   "id": "c4e6d1ab",
   "metadata": {},
   "outputs": [],
   "source": [
    "error = fitted_df[\"관객수\"] - fitted_df[\"모델예측\"]"
   ]
  },
  {
   "cell_type": "code",
   "execution_count": 62,
   "id": "61578492",
   "metadata": {},
   "outputs": [
    {
     "data": {
      "text/plain": [
       "<AxesSubplot:>"
      ]
     },
     "execution_count": 62,
     "metadata": {},
     "output_type": "execute_result"
    },
    {
     "data": {
      "image/png": "[encoded data removed]",
      "text/plain": [
       "<Figure size 432x288 with 1 Axes>"
      ]
     },
     "metadata": {
      "needs_background": "light"
     },
     "output_type": "display_data"
    }
   ],
   "source": [
    "error.hist(bins = 100)"
   ]
  },
  {
   "cell_type": "code",
   "execution_count": 63,
   "id": "bc5e0a6d",
   "metadata": {},
   "outputs": [
    {
     "data": {
      "image/png": "[encoded data removed]",
      "text/plain": [
       "<Figure size 360x360 with 1 Axes>"
      ]
     },
     "metadata": {
      "needs_background": "light"
     },
     "output_type": "display_data"
    }
   ],
   "source": [
    "_ = sns.relplot(fitted_df[\"관객수\"], fitted_df[\"모델예측\"])"
   ]
  },
  {
   "cell_type": "code",
   "execution_count": 64,
   "id": "8fa7ef50",
   "metadata": {},
   "outputs": [
    {
     "data": {
      "image/png": "[encoded data removed]",
      "text/plain": [
       "<Figure size 432x288 with 1 Axes>"
      ]
     },
     "metadata": {
      "needs_background": "light"
     },
     "output_type": "display_data"
    }
   ],
   "source": [
    "_ = sns.residplot(fitted_df[\"관객수\"], fitted_df[\"모델예측\"])"
   ]
  },
  {
   "cell_type": "markdown",
   "id": "52439662",
   "metadata": {},
   "source": [
    "* 그냥 너무 완벽하게 fitting 됐다..."
   ]
  },
  {
   "cell_type": "code",
   "execution_count": 65,
   "id": "0a37fb98",
   "metadata": {},
   "outputs": [
    {
     "name": "stdout",
     "output_type": "stream",
     "text": [
      "r2:  1.0\n",
      "mse:  0.0\n"
     ]
    }
   ],
   "source": [
    "from sklearn.metrics import r2_score\n",
    "from sklearn.metrics import mean_squared_error\n",
    "print(\"r2: \", r2_score(fitted_df[\"관객수\"], fitted_df[\"모델예측\"]))\n",
    "print(\"mse: \", mean_squared_error(fitted_df[\"관객수\"], fitted_df[\"모델예측\"]))"
   ]
  },
  {
   "cell_type": "markdown",
   "id": "3ee8c0ef",
   "metadata": {},
   "source": [
    "* 관객수와 상관이 높았던 feature만 사용했는데, 그중에도 log변환 했던 feature들이 많이 예측에 영향을 주었다."
   ]
  },
  {
   "cell_type": "code",
   "execution_count": 66,
   "id": "0f0e4eb0",
   "metadata": {},
   "outputs": [
    {
     "data": {
      "text/plain": [
       "<AxesSubplot:>"
      ]
     },
     "execution_count": 66,
     "metadata": {},
     "output_type": "execute_result"
    },
    {
     "data": {
      "image/png": "[encoded data removed]",
      "text/plain": [
       "<Figure size 432x288 with 1 Axes>"
      ]
     },
     "metadata": {
      "needs_background": "light"
     },
     "output_type": "display_data"
    }
   ],
   "source": [
    "sns.barplot(x = best_model.feature_importances_, y = best_model.feature_names_in_)"
   ]
  },
  {
   "cell_type": "markdown",
   "id": "306a1699",
   "metadata": {
    "id": "7bI-_wBRyzf5"
   },
   "source": [
    "## 모델 평가하기"
   ]
  },
  {
   "cell_type": "markdown",
   "id": "93af640b",
   "metadata": {
    "id": "DdW1Kiwxyzf7"
   },
   "source": [
    "test set에는 관객수 데이터가 없으므로 일단 prediction 후에 10개의 결과만 sample해본 후, 해당 영화의 실제 관객수를 수동으로 가져와 비교해보았다."
   ]
  },
  {
   "cell_type": "code",
   "execution_count": 67,
   "id": "065bffa8",
   "metadata": {},
   "outputs": [
    {
     "data": {
      "text/html": [
       "<div>\n",
       "<style scoped>\n",
       "    .dataframe tbody tr th:only-of-type {\n",
       "        vertical-align: middle;\n",
       "    }\n",
       "\n",
       "    .dataframe tbody tr th {\n",
       "        vertical-align: top;\n",
       "    }\n",
       "\n",
       "    .dataframe thead th {\n",
       "        text-align: right;\n",
       "    }\n",
       "</style>\n",
       "<table border=\"1\" class=\"dataframe\">\n",
       "  <thead>\n",
       "    <tr style=\"text-align: right;\">\n",
       "      <th></th>\n",
       "      <th>영화제목</th>\n",
       "      <th>배급사</th>\n",
       "      <th>장르</th>\n",
       "      <th>개봉일</th>\n",
       "      <th>상영시간(분)</th>\n",
       "      <th>상영등급</th>\n",
       "      <th>감독이름</th>\n",
       "      <th>감독평균관객수</th>\n",
       "      <th>감독참여영화</th>\n",
       "      <th>스태프수</th>\n",
       "      <th>...</th>\n",
       "      <th>분기순위</th>\n",
       "      <th>반기순위</th>\n",
       "      <th>영화유형순위</th>\n",
       "      <th>감독참여영화관객순위</th>\n",
       "      <th>영화규모관객순위</th>\n",
       "      <th>log_감독평균관객수</th>\n",
       "      <th>log_스태프수</th>\n",
       "      <th>log_상영시간(분)</th>\n",
       "      <th>log_배급사_관객순위</th>\n",
       "      <th>모델예측</th>\n",
       "    </tr>\n",
       "  </thead>\n",
       "  <tbody>\n",
       "    <tr>\n",
       "      <th>0</th>\n",
       "      <td>용서는 없다</td>\n",
       "      <td>시네마서비스</td>\n",
       "      <td>느와르</td>\n",
       "      <td>2010-01-07</td>\n",
       "      <td>125</td>\n",
       "      <td>청소년 관람불가</td>\n",
       "      <td>김형준</td>\n",
       "      <td>3.005290e+05</td>\n",
       "      <td>2</td>\n",
       "      <td>304</td>\n",
       "      <td>...</td>\n",
       "      <td>3.0</td>\n",
       "      <td>1.0</td>\n",
       "      <td>1.0</td>\n",
       "      <td>4.0</td>\n",
       "      <td>1.0</td>\n",
       "      <td>12.613303</td>\n",
       "      <td>5.720312</td>\n",
       "      <td>4.836282</td>\n",
       "      <td>4.174387</td>\n",
       "      <td>9272.0</td>\n",
       "    </tr>\n",
       "    <tr>\n",
       "      <th>1</th>\n",
       "      <td>아빠가 여자를 좋아해</td>\n",
       "      <td>(주)쇼박스</td>\n",
       "      <td>멜로/로맨스</td>\n",
       "      <td>2010-01-14</td>\n",
       "      <td>113</td>\n",
       "      <td>12세 관람가</td>\n",
       "      <td>이광재</td>\n",
       "      <td>3.427002e+05</td>\n",
       "      <td>4</td>\n",
       "      <td>275</td>\n",
       "      <td>...</td>\n",
       "      <td>3.0</td>\n",
       "      <td>1.0</td>\n",
       "      <td>1.0</td>\n",
       "      <td>1.0</td>\n",
       "      <td>1.0</td>\n",
       "      <td>12.744614</td>\n",
       "      <td>5.620401</td>\n",
       "      <td>4.736198</td>\n",
       "      <td>1.386294</td>\n",
       "      <td>2475797.0</td>\n",
       "    </tr>\n",
       "    <tr>\n",
       "      <th>2</th>\n",
       "      <td>하모니</td>\n",
       "      <td>CJ 엔터테인먼트</td>\n",
       "      <td>드라마</td>\n",
       "      <td>2010-01-28</td>\n",
       "      <td>115</td>\n",
       "      <td>12세 관람가</td>\n",
       "      <td>강대규</td>\n",
       "      <td>4.206611e+06</td>\n",
       "      <td>3</td>\n",
       "      <td>419</td>\n",
       "      <td>...</td>\n",
       "      <td>3.0</td>\n",
       "      <td>2.0</td>\n",
       "      <td>1.0</td>\n",
       "      <td>2.0</td>\n",
       "      <td>1.0</td>\n",
       "      <td>15.252168</td>\n",
       "      <td>6.040255</td>\n",
       "      <td>4.753590</td>\n",
       "      <td>2.197225</td>\n",
       "      <td>5443049.0</td>\n",
       "    </tr>\n",
       "    <tr>\n",
       "      <th>3</th>\n",
       "      <td>의형제</td>\n",
       "      <td>(주)쇼박스</td>\n",
       "      <td>액션</td>\n",
       "      <td>2010-02-04</td>\n",
       "      <td>116</td>\n",
       "      <td>15세 관람가</td>\n",
       "      <td>장훈</td>\n",
       "      <td>6.913420e+05</td>\n",
       "      <td>2</td>\n",
       "      <td>408</td>\n",
       "      <td>...</td>\n",
       "      <td>3.0</td>\n",
       "      <td>1.0</td>\n",
       "      <td>1.0</td>\n",
       "      <td>4.0</td>\n",
       "      <td>1.0</td>\n",
       "      <td>13.446391</td>\n",
       "      <td>6.013715</td>\n",
       "      <td>4.762174</td>\n",
       "      <td>1.386294</td>\n",
       "      <td>1346754.0</td>\n",
       "    </tr>\n",
       "    <tr>\n",
       "      <th>4</th>\n",
       "      <td>평행 이론</td>\n",
       "      <td>CJ 엔터테인먼트</td>\n",
       "      <td>공포</td>\n",
       "      <td>2010-02-18</td>\n",
       "      <td>110</td>\n",
       "      <td>15세 관람가</td>\n",
       "      <td>권호영</td>\n",
       "      <td>3.173800e+04</td>\n",
       "      <td>1</td>\n",
       "      <td>380</td>\n",
       "      <td>...</td>\n",
       "      <td>3.0</td>\n",
       "      <td>1.0</td>\n",
       "      <td>1.0</td>\n",
       "      <td>5.0</td>\n",
       "      <td>1.0</td>\n",
       "      <td>10.365301</td>\n",
       "      <td>5.942799</td>\n",
       "      <td>4.709530</td>\n",
       "      <td>2.197225</td>\n",
       "      <td>1346754.0</td>\n",
       "    </tr>\n",
       "    <tr>\n",
       "      <th>...</th>\n",
       "      <td>...</td>\n",
       "      <td>...</td>\n",
       "      <td>...</td>\n",
       "      <td>...</td>\n",
       "      <td>...</td>\n",
       "      <td>...</td>\n",
       "      <td>...</td>\n",
       "      <td>...</td>\n",
       "      <td>...</td>\n",
       "      <td>...</td>\n",
       "      <td>...</td>\n",
       "      <td>...</td>\n",
       "      <td>...</td>\n",
       "      <td>...</td>\n",
       "      <td>...</td>\n",
       "      <td>...</td>\n",
       "      <td>...</td>\n",
       "      <td>...</td>\n",
       "      <td>...</td>\n",
       "      <td>...</td>\n",
       "      <td>...</td>\n",
       "    </tr>\n",
       "    <tr>\n",
       "      <th>238</th>\n",
       "      <td>해에게서 소년에게</td>\n",
       "      <td>디씨드</td>\n",
       "      <td>드라마</td>\n",
       "      <td>2015-11-19</td>\n",
       "      <td>78</td>\n",
       "      <td>15세 관람가</td>\n",
       "      <td>안슬기</td>\n",
       "      <td>2.590000e+03</td>\n",
       "      <td>1</td>\n",
       "      <td>4</td>\n",
       "      <td>...</td>\n",
       "      <td>1.0</td>\n",
       "      <td>1.0</td>\n",
       "      <td>2.0</td>\n",
       "      <td>5.0</td>\n",
       "      <td>2.0</td>\n",
       "      <td>7.859799</td>\n",
       "      <td>1.609438</td>\n",
       "      <td>4.369448</td>\n",
       "      <td>4.304065</td>\n",
       "      <td>5105.0</td>\n",
       "    </tr>\n",
       "    <tr>\n",
       "      <th>239</th>\n",
       "      <td>울보 권투부</td>\n",
       "      <td>인디스토리</td>\n",
       "      <td>다큐멘터리</td>\n",
       "      <td>2015-10-29</td>\n",
       "      <td>86</td>\n",
       "      <td>12세 관람가</td>\n",
       "      <td>이일하</td>\n",
       "      <td>3.777228e+05</td>\n",
       "      <td>0</td>\n",
       "      <td>18</td>\n",
       "      <td>...</td>\n",
       "      <td>1.0</td>\n",
       "      <td>2.0</td>\n",
       "      <td>2.0</td>\n",
       "      <td>6.0</td>\n",
       "      <td>2.0</td>\n",
       "      <td>12.841918</td>\n",
       "      <td>2.944439</td>\n",
       "      <td>4.465908</td>\n",
       "      <td>4.382027</td>\n",
       "      <td>9301.0</td>\n",
       "    </tr>\n",
       "    <tr>\n",
       "      <th>240</th>\n",
       "      <td>어떤살인</td>\n",
       "      <td>(주)컨텐츠온미디어</td>\n",
       "      <td>느와르</td>\n",
       "      <td>2015-10-28</td>\n",
       "      <td>107</td>\n",
       "      <td>청소년 관람불가</td>\n",
       "      <td>안용훈</td>\n",
       "      <td>4.969413e+05</td>\n",
       "      <td>0</td>\n",
       "      <td>224</td>\n",
       "      <td>...</td>\n",
       "      <td>1.0</td>\n",
       "      <td>2.0</td>\n",
       "      <td>1.0</td>\n",
       "      <td>6.0</td>\n",
       "      <td>1.0</td>\n",
       "      <td>13.116229</td>\n",
       "      <td>5.416100</td>\n",
       "      <td>4.682131</td>\n",
       "      <td>4.304065</td>\n",
       "      <td>43947.0</td>\n",
       "    </tr>\n",
       "    <tr>\n",
       "      <th>241</th>\n",
       "      <td>말하지 못한 비밀</td>\n",
       "      <td>(주)씨타마운틴픽쳐스</td>\n",
       "      <td>드라마</td>\n",
       "      <td>2015-10-22</td>\n",
       "      <td>102</td>\n",
       "      <td>청소년 관람불가</td>\n",
       "      <td>송동윤</td>\n",
       "      <td>5.069900e+04</td>\n",
       "      <td>1</td>\n",
       "      <td>68</td>\n",
       "      <td>...</td>\n",
       "      <td>1.0</td>\n",
       "      <td>1.0</td>\n",
       "      <td>1.0</td>\n",
       "      <td>5.0</td>\n",
       "      <td>2.0</td>\n",
       "      <td>10.833681</td>\n",
       "      <td>4.234107</td>\n",
       "      <td>4.634729</td>\n",
       "      <td>4.304065</td>\n",
       "      <td>1504.0</td>\n",
       "    </tr>\n",
       "    <tr>\n",
       "      <th>242</th>\n",
       "      <td>조선안방 스캔들-칠거지악 2</td>\n",
       "      <td>(주) 케이알씨지</td>\n",
       "      <td>멜로/로맨스</td>\n",
       "      <td>2015-10-22</td>\n",
       "      <td>76</td>\n",
       "      <td>청소년 관람불가</td>\n",
       "      <td>이전</td>\n",
       "      <td>3.935000e+02</td>\n",
       "      <td>0</td>\n",
       "      <td>10</td>\n",
       "      <td>...</td>\n",
       "      <td>1.0</td>\n",
       "      <td>1.0</td>\n",
       "      <td>2.0</td>\n",
       "      <td>6.0</td>\n",
       "      <td>2.0</td>\n",
       "      <td>5.977619</td>\n",
       "      <td>2.397895</td>\n",
       "      <td>4.343805</td>\n",
       "      <td>4.779123</td>\n",
       "      <td>368.0</td>\n",
       "    </tr>\n",
       "  </tbody>\n",
       "</table>\n",
       "<p>243 rows × 34 columns</p>\n",
       "</div>"
      ],
      "text/plain": [
       "                영화제목          배급사      장르         개봉일  상영시간(분)      상영등급 감독이름  \\\n",
       "0             용서는 없다       시네마서비스     느와르  2010-01-07      125  청소년 관람불가  김형준   \n",
       "1        아빠가 여자를 좋아해       (주)쇼박스  멜로/로맨스  2010-01-14      113   12세 관람가  이광재   \n",
       "2                하모니    CJ 엔터테인먼트     드라마  2010-01-28      115   12세 관람가  강대규   \n",
       "3                의형제       (주)쇼박스      액션  2010-02-04      116   15세 관람가   장훈   \n",
       "4              평행 이론    CJ 엔터테인먼트      공포  2010-02-18      110   15세 관람가  권호영   \n",
       "..               ...          ...     ...         ...      ...       ...  ...   \n",
       "238        해에게서 소년에게          디씨드     드라마  2015-11-19       78   15세 관람가  안슬기   \n",
       "239           울보 권투부        인디스토리   다큐멘터리  2015-10-29       86   12세 관람가  이일하   \n",
       "240             어떤살인   (주)컨텐츠온미디어     느와르  2015-10-28      107  청소년 관람불가  안용훈   \n",
       "241        말하지 못한 비밀  (주)씨타마운틴픽쳐스     드라마  2015-10-22      102  청소년 관람불가  송동윤   \n",
       "242  조선안방 스캔들-칠거지악 2    (주) 케이알씨지  멜로/로맨스  2015-10-22       76  청소년 관람불가   이전   \n",
       "\n",
       "          감독평균관객수  감독참여영화  스태프수  ...  분기순위 반기순위  영화유형순위  감독참여영화관객순위  영화규모관객순위  \\\n",
       "0    3.005290e+05       2   304  ...   3.0  1.0     1.0         4.0       1.0   \n",
       "1    3.427002e+05       4   275  ...   3.0  1.0     1.0         1.0       1.0   \n",
       "2    4.206611e+06       3   419  ...   3.0  2.0     1.0         2.0       1.0   \n",
       "3    6.913420e+05       2   408  ...   3.0  1.0     1.0         4.0       1.0   \n",
       "4    3.173800e+04       1   380  ...   3.0  1.0     1.0         5.0       1.0   \n",
       "..            ...     ...   ...  ...   ...  ...     ...         ...       ...   \n",
       "238  2.590000e+03       1     4  ...   1.0  1.0     2.0         5.0       2.0   \n",
       "239  3.777228e+05       0    18  ...   1.0  2.0     2.0         6.0       2.0   \n",
       "240  4.969413e+05       0   224  ...   1.0  2.0     1.0         6.0       1.0   \n",
       "241  5.069900e+04       1    68  ...   1.0  1.0     1.0         5.0       2.0   \n",
       "242  3.935000e+02       0    10  ...   1.0  1.0     2.0         6.0       2.0   \n",
       "\n",
       "    log_감독평균관객수  log_스태프수 log_상영시간(분)  log_배급사_관객순위       모델예측  \n",
       "0     12.613303  5.720312    4.836282      4.174387     9272.0  \n",
       "1     12.744614  5.620401    4.736198      1.386294  2475797.0  \n",
       "2     15.252168  6.040255    4.753590      2.197225  5443049.0  \n",
       "3     13.446391  6.013715    4.762174      1.386294  1346754.0  \n",
       "4     10.365301  5.942799    4.709530      2.197225  1346754.0  \n",
       "..          ...       ...         ...           ...        ...  \n",
       "238    7.859799  1.609438    4.369448      4.304065     5105.0  \n",
       "239   12.841918  2.944439    4.465908      4.382027     9301.0  \n",
       "240   13.116229  5.416100    4.682131      4.304065    43947.0  \n",
       "241   10.833681  4.234107    4.634729      4.304065     1504.0  \n",
       "242    5.977619  2.397895    4.343805      4.779123      368.0  \n",
       "\n",
       "[243 rows x 34 columns]"
      ]
     },
     "execution_count": 67,
     "metadata": {},
     "output_type": "execute_result"
    }
   ],
   "source": [
    "predicted_df = df_test.copy()\n",
    "predicted_df[\"모델예측\"] = best_model.predict(X_test)\n",
    "predicted_df"
   ]
  },
  {
   "cell_type": "code",
   "execution_count": 68,
   "id": "b443b8e3",
   "metadata": {},
   "outputs": [
    {
     "data": {
      "text/plain": [
       "<AxesSubplot:ylabel='Frequency'>"
      ]
     },
     "execution_count": 68,
     "metadata": {},
     "output_type": "execute_result"
    },
    {
     "data": {
      "image/png": "[encoded data removed]",
      "text/plain": [
       "<Figure size 432x288 with 1 Axes>"
      ]
     },
     "metadata": {
      "needs_background": "light"
     },
     "output_type": "display_data"
    }
   ],
   "source": [
    "predicted_df[\"모델예측\"].plot.hist(bins =100)"
   ]
  },
  {
   "cell_type": "code",
   "execution_count": 69,
   "id": "9cfdf629",
   "metadata": {},
   "outputs": [
    {
     "data": {
      "text/html": [
       "<div>\n",
       "<style scoped>\n",
       "    .dataframe tbody tr th:only-of-type {\n",
       "        vertical-align: middle;\n",
       "    }\n",
       "\n",
       "    .dataframe tbody tr th {\n",
       "        vertical-align: top;\n",
       "    }\n",
       "\n",
       "    .dataframe thead th {\n",
       "        text-align: right;\n",
       "    }\n",
       "</style>\n",
       "<table border=\"1\" class=\"dataframe\">\n",
       "  <thead>\n",
       "    <tr style=\"text-align: right;\">\n",
       "      <th></th>\n",
       "      <th>영화제목</th>\n",
       "      <th>배급사</th>\n",
       "      <th>장르</th>\n",
       "      <th>개봉일</th>\n",
       "      <th>상영시간(분)</th>\n",
       "      <th>상영등급</th>\n",
       "      <th>감독이름</th>\n",
       "      <th>감독평균관객수</th>\n",
       "      <th>감독참여영화</th>\n",
       "      <th>스태프수</th>\n",
       "      <th>...</th>\n",
       "      <th>분기순위</th>\n",
       "      <th>반기순위</th>\n",
       "      <th>영화유형순위</th>\n",
       "      <th>감독참여영화관객순위</th>\n",
       "      <th>영화규모관객순위</th>\n",
       "      <th>log_감독평균관객수</th>\n",
       "      <th>log_스태프수</th>\n",
       "      <th>log_상영시간(분)</th>\n",
       "      <th>log_배급사_관객순위</th>\n",
       "      <th>모델예측</th>\n",
       "    </tr>\n",
       "  </thead>\n",
       "  <tbody>\n",
       "    <tr>\n",
       "      <th>24</th>\n",
       "      <td>탈주</td>\n",
       "      <td>청년필름</td>\n",
       "      <td>드라마</td>\n",
       "      <td>2010-09-02</td>\n",
       "      <td>110</td>\n",
       "      <td>청소년 관람불가</td>\n",
       "      <td>이송희일</td>\n",
       "      <td>3389.000000</td>\n",
       "      <td>0</td>\n",
       "      <td>11</td>\n",
       "      <td>...</td>\n",
       "      <td>2.0</td>\n",
       "      <td>1.0</td>\n",
       "      <td>1.0</td>\n",
       "      <td>6.0</td>\n",
       "      <td>2.0</td>\n",
       "      <td>8.128585</td>\n",
       "      <td>2.484907</td>\n",
       "      <td>4.709530</td>\n",
       "      <td>4.304065</td>\n",
       "      <td>2972.0</td>\n",
       "    </tr>\n",
       "    <tr>\n",
       "      <th>6</th>\n",
       "      <td>경계도시 2</td>\n",
       "      <td>시네마 달</td>\n",
       "      <td>다큐멘터리</td>\n",
       "      <td>2010-03-18</td>\n",
       "      <td>104</td>\n",
       "      <td>15세 관람가</td>\n",
       "      <td>홍형숙</td>\n",
       "      <td>105942.472222</td>\n",
       "      <td>0</td>\n",
       "      <td>11</td>\n",
       "      <td>...</td>\n",
       "      <td>3.0</td>\n",
       "      <td>2.0</td>\n",
       "      <td>1.0</td>\n",
       "      <td>6.0</td>\n",
       "      <td>2.0</td>\n",
       "      <td>11.570661</td>\n",
       "      <td>2.484907</td>\n",
       "      <td>4.653960</td>\n",
       "      <td>4.174387</td>\n",
       "      <td>21483.0</td>\n",
       "    </tr>\n",
       "    <tr>\n",
       "      <th>152</th>\n",
       "      <td>살인자</td>\n",
       "      <td>(주)영화사 빅</td>\n",
       "      <td>공포</td>\n",
       "      <td>2014-01-15</td>\n",
       "      <td>76</td>\n",
       "      <td>청소년 관람불가</td>\n",
       "      <td>이기욱</td>\n",
       "      <td>496941.279249</td>\n",
       "      <td>0</td>\n",
       "      <td>116</td>\n",
       "      <td>...</td>\n",
       "      <td>3.0</td>\n",
       "      <td>2.0</td>\n",
       "      <td>2.0</td>\n",
       "      <td>6.0</td>\n",
       "      <td>1.0</td>\n",
       "      <td>13.116229</td>\n",
       "      <td>4.762174</td>\n",
       "      <td>4.343805</td>\n",
       "      <td>4.304065</td>\n",
       "      <td>14537.0</td>\n",
       "    </tr>\n",
       "    <tr>\n",
       "      <th>232</th>\n",
       "      <td>마돈나</td>\n",
       "      <td>리틀빅픽처스</td>\n",
       "      <td>드라마</td>\n",
       "      <td>2015-07-02</td>\n",
       "      <td>120</td>\n",
       "      <td>청소년 관람불가</td>\n",
       "      <td>신수원</td>\n",
       "      <td>771699.000000</td>\n",
       "      <td>1</td>\n",
       "      <td>126</td>\n",
       "      <td>...</td>\n",
       "      <td>2.0</td>\n",
       "      <td>1.0</td>\n",
       "      <td>1.0</td>\n",
       "      <td>5.0</td>\n",
       "      <td>1.0</td>\n",
       "      <td>13.556351</td>\n",
       "      <td>4.844187</td>\n",
       "      <td>4.795791</td>\n",
       "      <td>2.944439</td>\n",
       "      <td>16866.0</td>\n",
       "    </tr>\n",
       "    <tr>\n",
       "      <th>238</th>\n",
       "      <td>해에게서 소년에게</td>\n",
       "      <td>디씨드</td>\n",
       "      <td>드라마</td>\n",
       "      <td>2015-11-19</td>\n",
       "      <td>78</td>\n",
       "      <td>15세 관람가</td>\n",
       "      <td>안슬기</td>\n",
       "      <td>2590.000000</td>\n",
       "      <td>1</td>\n",
       "      <td>4</td>\n",
       "      <td>...</td>\n",
       "      <td>1.0</td>\n",
       "      <td>1.0</td>\n",
       "      <td>2.0</td>\n",
       "      <td>5.0</td>\n",
       "      <td>2.0</td>\n",
       "      <td>7.859799</td>\n",
       "      <td>1.609438</td>\n",
       "      <td>4.369448</td>\n",
       "      <td>4.304065</td>\n",
       "      <td>5105.0</td>\n",
       "    </tr>\n",
       "    <tr>\n",
       "      <th>175</th>\n",
       "      <td>족구왕</td>\n",
       "      <td>KT&amp;G 상상마당</td>\n",
       "      <td>드라마</td>\n",
       "      <td>2014-08-21</td>\n",
       "      <td>104</td>\n",
       "      <td>15세 관람가</td>\n",
       "      <td>우문기</td>\n",
       "      <td>496941.279249</td>\n",
       "      <td>0</td>\n",
       "      <td>202</td>\n",
       "      <td>...</td>\n",
       "      <td>2.0</td>\n",
       "      <td>1.0</td>\n",
       "      <td>1.0</td>\n",
       "      <td>6.0</td>\n",
       "      <td>1.0</td>\n",
       "      <td>13.116229</td>\n",
       "      <td>5.313206</td>\n",
       "      <td>4.653960</td>\n",
       "      <td>4.262680</td>\n",
       "      <td>51120.0</td>\n",
       "    </tr>\n",
       "    <tr>\n",
       "      <th>215</th>\n",
       "      <td>플랑크 상수</td>\n",
       "      <td>하준사</td>\n",
       "      <td>드라마</td>\n",
       "      <td>2015-04-30</td>\n",
       "      <td>69</td>\n",
       "      <td>청소년 관람불가</td>\n",
       "      <td>조성규</td>\n",
       "      <td>4849.333333</td>\n",
       "      <td>0</td>\n",
       "      <td>64</td>\n",
       "      <td>...</td>\n",
       "      <td>4.0</td>\n",
       "      <td>1.0</td>\n",
       "      <td>2.0</td>\n",
       "      <td>6.0</td>\n",
       "      <td>2.0</td>\n",
       "      <td>8.486803</td>\n",
       "      <td>4.174387</td>\n",
       "      <td>4.248495</td>\n",
       "      <td>4.804021</td>\n",
       "      <td>37122.0</td>\n",
       "    </tr>\n",
       "    <tr>\n",
       "      <th>150</th>\n",
       "      <td>만찬</td>\n",
       "      <td>인디스토리</td>\n",
       "      <td>드라마</td>\n",
       "      <td>2014-01-23</td>\n",
       "      <td>125</td>\n",
       "      <td>15세 관람가</td>\n",
       "      <td>김동현</td>\n",
       "      <td>377722.784144</td>\n",
       "      <td>0</td>\n",
       "      <td>77</td>\n",
       "      <td>...</td>\n",
       "      <td>3.0</td>\n",
       "      <td>1.0</td>\n",
       "      <td>1.0</td>\n",
       "      <td>6.0</td>\n",
       "      <td>2.0</td>\n",
       "      <td>12.841918</td>\n",
       "      <td>4.356709</td>\n",
       "      <td>4.836282</td>\n",
       "      <td>4.382027</td>\n",
       "      <td>11260.0</td>\n",
       "    </tr>\n",
       "    <tr>\n",
       "      <th>9</th>\n",
       "      <td>반가운 살인자</td>\n",
       "      <td>롯데쇼핑(주)롯데엔터테인먼트</td>\n",
       "      <td>코미디</td>\n",
       "      <td>2010-04-08</td>\n",
       "      <td>107</td>\n",
       "      <td>15세 관람가</td>\n",
       "      <td>김동욱</td>\n",
       "      <td>496941.279249</td>\n",
       "      <td>0</td>\n",
       "      <td>255</td>\n",
       "      <td>...</td>\n",
       "      <td>4.0</td>\n",
       "      <td>2.0</td>\n",
       "      <td>1.0</td>\n",
       "      <td>6.0</td>\n",
       "      <td>1.0</td>\n",
       "      <td>13.116229</td>\n",
       "      <td>5.545177</td>\n",
       "      <td>4.682131</td>\n",
       "      <td>4.304065</td>\n",
       "      <td>472009.0</td>\n",
       "    </tr>\n",
       "    <tr>\n",
       "      <th>113</th>\n",
       "      <td>지슬 - 끝나지 않은 세월 2</td>\n",
       "      <td>영화사 진진</td>\n",
       "      <td>드라마</td>\n",
       "      <td>2013-03-21</td>\n",
       "      <td>108</td>\n",
       "      <td>15세 관람가</td>\n",
       "      <td>오멸</td>\n",
       "      <td>1597.000000</td>\n",
       "      <td>0</td>\n",
       "      <td>44</td>\n",
       "      <td>...</td>\n",
       "      <td>3.0</td>\n",
       "      <td>2.0</td>\n",
       "      <td>1.0</td>\n",
       "      <td>6.0</td>\n",
       "      <td>2.0</td>\n",
       "      <td>7.376508</td>\n",
       "      <td>3.806662</td>\n",
       "      <td>4.691348</td>\n",
       "      <td>4.276666</td>\n",
       "      <td>2972.0</td>\n",
       "    </tr>\n",
       "  </tbody>\n",
       "</table>\n",
       "<p>10 rows × 34 columns</p>\n",
       "</div>"
      ],
      "text/plain": [
       "                 영화제목              배급사     장르         개봉일  상영시간(분)      상영등급  \\\n",
       "24                 탈주             청년필름    드라마  2010-09-02      110  청소년 관람불가   \n",
       "6              경계도시 2            시네마 달  다큐멘터리  2010-03-18      104   15세 관람가   \n",
       "152               살인자         (주)영화사 빅     공포  2014-01-15       76  청소년 관람불가   \n",
       "232               마돈나           리틀빅픽처스    드라마  2015-07-02      120  청소년 관람불가   \n",
       "238         해에게서 소년에게              디씨드    드라마  2015-11-19       78   15세 관람가   \n",
       "175               족구왕        KT&G 상상마당    드라마  2014-08-21      104   15세 관람가   \n",
       "215            플랑크 상수              하준사    드라마  2015-04-30       69  청소년 관람불가   \n",
       "150                만찬            인디스토리    드라마  2014-01-23      125   15세 관람가   \n",
       "9             반가운 살인자  롯데쇼핑(주)롯데엔터테인먼트    코미디  2010-04-08      107   15세 관람가   \n",
       "113  지슬 - 끝나지 않은 세월 2           영화사 진진    드라마  2013-03-21      108   15세 관람가   \n",
       "\n",
       "     감독이름        감독평균관객수  감독참여영화  스태프수  ...  분기순위 반기순위  영화유형순위  감독참여영화관객순위  \\\n",
       "24   이송희일    3389.000000       0    11  ...   2.0  1.0     1.0         6.0   \n",
       "6     홍형숙  105942.472222       0    11  ...   3.0  2.0     1.0         6.0   \n",
       "152   이기욱  496941.279249       0   116  ...   3.0  2.0     2.0         6.0   \n",
       "232   신수원  771699.000000       1   126  ...   2.0  1.0     1.0         5.0   \n",
       "238   안슬기    2590.000000       1     4  ...   1.0  1.0     2.0         5.0   \n",
       "175   우문기  496941.279249       0   202  ...   2.0  1.0     1.0         6.0   \n",
       "215   조성규    4849.333333       0    64  ...   4.0  1.0     2.0         6.0   \n",
       "150   김동현  377722.784144       0    77  ...   3.0  1.0     1.0         6.0   \n",
       "9     김동욱  496941.279249       0   255  ...   4.0  2.0     1.0         6.0   \n",
       "113    오멸    1597.000000       0    44  ...   3.0  2.0     1.0         6.0   \n",
       "\n",
       "     영화규모관객순위 log_감독평균관객수  log_스태프수 log_상영시간(분)  log_배급사_관객순위      모델예측  \n",
       "24        2.0    8.128585  2.484907    4.709530      4.304065    2972.0  \n",
       "6         2.0   11.570661  2.484907    4.653960      4.174387   21483.0  \n",
       "152       1.0   13.116229  4.762174    4.343805      4.304065   14537.0  \n",
       "232       1.0   13.556351  4.844187    4.795791      2.944439   16866.0  \n",
       "238       2.0    7.859799  1.609438    4.369448      4.304065    5105.0  \n",
       "175       1.0   13.116229  5.313206    4.653960      4.262680   51120.0  \n",
       "215       2.0    8.486803  4.174387    4.248495      4.804021   37122.0  \n",
       "150       2.0   12.841918  4.356709    4.836282      4.382027   11260.0  \n",
       "9         1.0   13.116229  5.545177    4.682131      4.304065  472009.0  \n",
       "113       2.0    7.376508  3.806662    4.691348      4.276666    2972.0  \n",
       "\n",
       "[10 rows x 34 columns]"
      ]
     },
     "execution_count": 69,
     "metadata": {},
     "output_type": "execute_result"
    }
   ],
   "source": [
    "film_samples = predicted_df.sample(10, random_state = 42)\n",
    "film_samples"
   ]
  },
  {
   "cell_type": "code",
   "execution_count": 70,
   "id": "cb5b528b",
   "metadata": {},
   "outputs": [
    {
     "data": {
      "text/html": [
       "<div>\n",
       "<style scoped>\n",
       "    .dataframe tbody tr th:only-of-type {\n",
       "        vertical-align: middle;\n",
       "    }\n",
       "\n",
       "    .dataframe tbody tr th {\n",
       "        vertical-align: top;\n",
       "    }\n",
       "\n",
       "    .dataframe thead th {\n",
       "        text-align: right;\n",
       "    }\n",
       "</style>\n",
       "<table border=\"1\" class=\"dataframe\">\n",
       "  <thead>\n",
       "    <tr style=\"text-align: right;\">\n",
       "      <th></th>\n",
       "      <th>영화제목</th>\n",
       "      <th>모델예측</th>\n",
       "      <th>관객수</th>\n",
       "    </tr>\n",
       "  </thead>\n",
       "  <tbody>\n",
       "    <tr>\n",
       "      <th>24</th>\n",
       "      <td>탈주</td>\n",
       "      <td>2972.0</td>\n",
       "      <td>1854</td>\n",
       "    </tr>\n",
       "    <tr>\n",
       "      <th>6</th>\n",
       "      <td>경계도시 2</td>\n",
       "      <td>21483.0</td>\n",
       "      <td>9032</td>\n",
       "    </tr>\n",
       "    <tr>\n",
       "      <th>152</th>\n",
       "      <td>살인자</td>\n",
       "      <td>14537.0</td>\n",
       "      <td>88199</td>\n",
       "    </tr>\n",
       "    <tr>\n",
       "      <th>232</th>\n",
       "      <td>마돈나</td>\n",
       "      <td>16866.0</td>\n",
       "      <td>18112</td>\n",
       "    </tr>\n",
       "    <tr>\n",
       "      <th>238</th>\n",
       "      <td>해에게서 소년에게</td>\n",
       "      <td>5105.0</td>\n",
       "      <td>675</td>\n",
       "    </tr>\n",
       "    <tr>\n",
       "      <th>175</th>\n",
       "      <td>족구왕</td>\n",
       "      <td>51120.0</td>\n",
       "      <td>45701</td>\n",
       "    </tr>\n",
       "    <tr>\n",
       "      <th>215</th>\n",
       "      <td>플랑크 상수</td>\n",
       "      <td>37122.0</td>\n",
       "      <td>592</td>\n",
       "    </tr>\n",
       "    <tr>\n",
       "      <th>150</th>\n",
       "      <td>만찬</td>\n",
       "      <td>11260.0</td>\n",
       "      <td>1948</td>\n",
       "    </tr>\n",
       "    <tr>\n",
       "      <th>9</th>\n",
       "      <td>반가운 살인자</td>\n",
       "      <td>472009.0</td>\n",
       "      <td>599176</td>\n",
       "    </tr>\n",
       "    <tr>\n",
       "      <th>113</th>\n",
       "      <td>지슬 - 끝나지 않은 세월 2</td>\n",
       "      <td>2972.0</td>\n",
       "      <td>143715</td>\n",
       "    </tr>\n",
       "  </tbody>\n",
       "</table>\n",
       "</div>"
      ],
      "text/plain": [
       "                 영화제목      모델예측     관객수\n",
       "24                 탈주    2972.0    1854\n",
       "6              경계도시 2   21483.0    9032\n",
       "152               살인자   14537.0   88199\n",
       "232               마돈나   16866.0   18112\n",
       "238         해에게서 소년에게    5105.0     675\n",
       "175               족구왕   51120.0   45701\n",
       "215            플랑크 상수   37122.0     592\n",
       "150                만찬   11260.0    1948\n",
       "9             반가운 살인자  472009.0  599176\n",
       "113  지슬 - 끝나지 않은 세월 2    2972.0  143715"
      ]
     },
     "execution_count": 70,
     "metadata": {},
     "output_type": "execute_result"
    }
   ],
   "source": [
    "film_samples[\"관객수\"] = [1854, 9032, 88199, 18112, 675, 45701, 592, 1948, 599176, 143715] \n",
    "film_samples[[\"영화제목\", \"모델예측\", \"관객수\"]]"
   ]
  },
  {
   "cell_type": "markdown",
   "id": "7f5f59c2",
   "metadata": {},
   "source": [
    "* overfit된 모델인데 생각보다 괜찮...?"
   ]
  },
  {
   "cell_type": "code",
   "execution_count": 71,
   "id": "efde5098",
   "metadata": {},
   "outputs": [
    {
     "data": {
      "text/plain": [
       "<AxesSubplot:xlabel='관객수', ylabel='영화제목'>"
      ]
     },
     "execution_count": 71,
     "metadata": {},
     "output_type": "execute_result"
    },
    {
     "data": {
      "image/png": "[encoded data removed]",
      "text/plain": [
       "<Figure size 1440x720 with 2 Axes>"
      ]
     },
     "metadata": {
      "needs_background": "light"
     },
     "output_type": "display_data"
    }
   ],
   "source": [
    "fig = plt.figure(figsize= (20, 10))\n",
    "axes = fig.subplots(1, 2)\n",
    "sns.barplot(data = film_samples, y= \"영화제목\", x = \"모델예측\", ax = axes[0])\n",
    "sns.barplot(data = film_samples, y= \"영화제목\", x = \"관객수\", ax = axes[1])"
   ]
  },
  {
   "cell_type": "code",
   "execution_count": 72,
   "id": "d4d54c9e",
   "metadata": {},
   "outputs": [],
   "source": [
    "predict_error = film_samples[\"관객수\"] - film_samples[\"모델예측\"]"
   ]
  },
  {
   "cell_type": "code",
   "execution_count": 73,
   "id": "202c9137",
   "metadata": {},
   "outputs": [
    {
     "data": {
      "text/plain": [
       "<AxesSubplot:>"
      ]
     },
     "execution_count": 73,
     "metadata": {},
     "output_type": "execute_result"
    },
    {
     "data": {
      "image/png": "[encoded data removed]",
      "text/plain": [
       "<Figure size 432x288 with 1 Axes>"
      ]
     },
     "metadata": {
      "needs_background": "light"
     },
     "output_type": "display_data"
    }
   ],
   "source": [
    "predict_error.hist(bins = 100)"
   ]
  },
  {
   "cell_type": "code",
   "execution_count": 74,
   "id": "c72b5d5c",
   "metadata": {},
   "outputs": [
    {
     "name": "stdout",
     "output_type": "stream",
     "text": [
      "r2:  0.8599708037739533\n",
      "mse:  4303410272.8\n"
     ]
    }
   ],
   "source": [
    "print(\"r2: \", r2_score(film_samples[\"관객수\"], film_samples[\"모델예측\"]))\n",
    "print(\"mse: \", mean_squared_error(film_samples[\"관객수\"], film_samples[\"모델예측\"]))"
   ]
  },
  {
   "cell_type": "code",
   "execution_count": 75,
   "id": "5a0c46c3",
   "metadata": {},
   "outputs": [
    {
     "data": {
      "text/html": [
       "<div>\n",
       "<style scoped>\n",
       "    .dataframe tbody tr th:only-of-type {\n",
       "        vertical-align: middle;\n",
       "    }\n",
       "\n",
       "    .dataframe tbody tr th {\n",
       "        vertical-align: top;\n",
       "    }\n",
       "\n",
       "    .dataframe thead th {\n",
       "        text-align: right;\n",
       "    }\n",
       "</style>\n",
       "<table border=\"1\" class=\"dataframe\">\n",
       "  <thead>\n",
       "    <tr style=\"text-align: right;\">\n",
       "      <th></th>\n",
       "      <th>관객수</th>\n",
       "      <th>모델예측</th>\n",
       "    </tr>\n",
       "  </thead>\n",
       "  <tbody>\n",
       "    <tr>\n",
       "      <th>관객수</th>\n",
       "      <td>1.00000</td>\n",
       "      <td>0.95661</td>\n",
       "    </tr>\n",
       "    <tr>\n",
       "      <th>모델예측</th>\n",
       "      <td>0.95661</td>\n",
       "      <td>1.00000</td>\n",
       "    </tr>\n",
       "  </tbody>\n",
       "</table>\n",
       "</div>"
      ],
      "text/plain": [
       "          관객수     모델예측\n",
       "관객수   1.00000  0.95661\n",
       "모델예측  0.95661  1.00000"
      ]
     },
     "execution_count": 75,
     "metadata": {},
     "output_type": "execute_result"
    }
   ],
   "source": [
    "film_samples[[\"관객수\", \"모델예측\"]].corr()"
   ]
  },
  {
   "cell_type": "markdown",
   "id": "fa18f0d5",
   "metadata": {},
   "source": [
    "* 상관이 높게 나오는 이유는, sample된 10개중 한작품(반가운 살인자)가 관객수가 매우 많은데, 이를 어느정도 잘 예측했기 때문인듯…"
   ]
  },
  {
   "cell_type": "code",
   "execution_count": 76,
   "id": "a7c82bae",
   "metadata": {},
   "outputs": [
    {
     "data": {
      "text/plain": [
       "<AxesSubplot:xlabel='관객수', ylabel='모델예측'>"
      ]
     },
     "execution_count": 76,
     "metadata": {},
     "output_type": "execute_result"
    },
    {
     "data": {
      "image/png": "[encoded data removed]",
      "text/plain": [
       "<Figure size 432x288 with 1 Axes>"
      ]
     },
     "metadata": {
      "needs_background": "light"
     },
     "output_type": "display_data"
    }
   ],
   "source": [
    "sns.regplot(data = film_samples, x = \"관객수\", y = \"모델예측\", ci = False)"
   ]
  },
  {
   "cell_type": "markdown",
   "id": "8df18f86",
   "metadata": {},
   "source": [
    "## 결론"
   ]
  },
  {
   "cell_type": "markdown",
   "id": "c985e513",
   "metadata": {},
   "source": [
    "관객수를 예측하는데, 배급사, 스태프수, 상영시간, 감독의 평균관객순위 등이 중요한 예측 변수가 됨을 확인했다.\n",
    "다만 decisiontree 모델은 쉽게 overfit된다는 특성이 있다고 들었는데, 아니나 다를까 train 데이터를 너무나 완벽하게 설명해버렸다.\n",
    "그럼에도 test data에 대한 예측을 나쁘지 않게 했는데, 전체 실제데이터를 확인해 볼 수 있으면 좋겠다.\n",
    "아직 머신러닝 실력이 부족해서, 이런 상황에 대한 대처법이 부족한 것 같지만, 재밌는 주제 덕분에 즐겁게 할 수 있었던 프로젝트였던 것 같다."
   ]
  },
  {
   "cell_type": "code",
   "execution_count": null,
   "id": "b12c5c81",
   "metadata": {},
   "outputs": [],
   "source": []
  },
  {
   "cell_type": "code",
   "execution_count": null,
   "id": "2a0d8975",
   "metadata": {},
   "outputs": [],
   "source": []
  },
  {
   "cell_type": "code",
   "execution_count": null,
   "id": "329fd934",
   "metadata": {},
   "outputs": [],
   "source": []
  }
 ],
 "metadata": {
  "kernelspec": {
   "display_name": "Python 3 (ipykernel)",
   "language": "python",
   "name": "python3"
  },
  "language_info": {
   "codemirror_mode": {
    "name": "ipython",
    "version": 3
   },
   "file_extension": ".py",
   "mimetype": "text/x-python",
   "name": "python",
   "nbconvert_exporter": "python",
   "pygments_lexer": "ipython3",
   "version": "3.9.12"
  },
  "toc": {
   "base_numbering": 1,
   "nav_menu": {},
   "number_sections": false,
   "sideBar": true,
   "skip_h1_title": false,
   "title_cell": "Table of Contents",
   "title_sidebar": "Contents",
   "toc_cell": false,
   "toc_position": {
    "height": "calc(100% - 180px)",
    "left": "10px",
    "top": "150px",
    "width": "358.398px"
   },
   "toc_section_display": true,
   "toc_window_display": false
  },
  "varInspector": {
   "cols": {
    "lenName": 16,
    "lenType": 16,
    "lenVar": 40
   },
   "kernels_config": {
    "python": {
     "delete_cmd_postfix": "",
     "delete_cmd_prefix": "del ",
     "library": "var_list.py",
     "varRefreshCmd": "print(var_dic_list())"
    },
    "r": {
     "delete_cmd_postfix": ") ",
     "delete_cmd_prefix": "rm(",
     "library": "var_list.r",
     "varRefreshCmd": "cat(var_dic_list()) "
    }
   },
   "position": {
    "height": "144.852px",
    "left": "1416px",
    "right": "20px",
    "top": "95px",
    "width": "350px"
   },
   "types_to_exclude": [
    "module",
    "function",
    "builtin_function_or_method",
    "instance",
    "_Feature"
   ],
   "window_display": true
  }
 },
 "nbformat": 4,
 "nbformat_minor": 5
}
